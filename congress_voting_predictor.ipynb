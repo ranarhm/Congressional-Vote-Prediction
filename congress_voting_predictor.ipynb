{
 "cells": [
  {
   "cell_type": "code",
   "execution_count": 1,
   "id": "026b0402",
   "metadata": {},
   "outputs": [],
   "source": [
    "import csv\n",
    "import pandas as pd\n",
    "import numpy as np\n",
    "import matplotlib.pyplot as plt\n",
    "import sklearn\n",
    "from sklearn import tree\n",
    "from sklearn import datasets\n",
    "from sklearn import model_selection\n",
    "from sklearn import metrics\n",
    "from io import StringIO\n",
    "import graphviz\n",
    "from sklearn import naive_bayes"
   ]
  },
  {
   "cell_type": "markdown",
   "id": "cdf91fa6",
   "metadata": {},
   "source": [
    "### Load Data"
   ]
  },
  {
   "cell_type": "code",
   "execution_count": 2,
   "id": "cf6ff519",
   "metadata": {},
   "outputs": [
    {
     "name": "stdout",
     "output_type": "stream",
     "text": [
      "           0  1  2  3  4  5  6  7  8  9  10 11 12 13 14 15 16\n",
      "0  republican  n  y  n  y  y  y  n  n  n  y  ?  y  y  y  n  y\n",
      "1  republican  n  y  n  y  y  y  n  n  n  n  n  y  y  y  n  ?\n",
      "2    democrat  ?  y  y  ?  y  y  n  n  n  n  y  n  y  y  n  n\n",
      "3    democrat  n  y  y  n  ?  y  n  n  n  n  y  n  y  n  n  y\n",
      "4    democrat  y  y  y  n  y  y  n  n  n  n  y  ?  y  y  y  y\n"
     ]
    }
   ],
   "source": [
    "file = pd.read_csv('house-votes-84.data', header=None)\n",
    "print(file.head())\n",
    "col_names = \"Class Name,handicapped-infants,water-project-cost-sharing,adoption-of-the-budget-resolution,physician-fee-freeze,el-salvador-aid,religious-groups-in-schools,anti-satellite-test-ban,aid-to-nicaraguan-contras,mx-missile,immigration,fuels-corporation-cutback,education-spending,superfund-right-to-sue,crime,duty-free-exports,export-administration-act-south-africa\"\n",
    "\n",
    "\n",
    "file.to_csv('house-votes-84-data.csv', header=col_names.split(\",\"), index=False)"
   ]
  },
  {
   "cell_type": "code",
   "execution_count": 3,
   "id": "01b55ee9",
   "metadata": {
    "scrolled": true
   },
   "outputs": [
    {
     "data": {
      "text/html": [
       "<div>\n",
       "<style scoped>\n",
       "    .dataframe tbody tr th:only-of-type {\n",
       "        vertical-align: middle;\n",
       "    }\n",
       "\n",
       "    .dataframe tbody tr th {\n",
       "        vertical-align: top;\n",
       "    }\n",
       "\n",
       "    .dataframe thead th {\n",
       "        text-align: right;\n",
       "    }\n",
       "</style>\n",
       "<table border=\"1\" class=\"dataframe\">\n",
       "  <thead>\n",
       "    <tr style=\"text-align: right;\">\n",
       "      <th></th>\n",
       "      <th>Class Name</th>\n",
       "      <th>handicapped-infants</th>\n",
       "      <th>water-project-cost-sharing</th>\n",
       "      <th>adoption-of-the-budget-resolution</th>\n",
       "      <th>physician-fee-freeze</th>\n",
       "      <th>el-salvador-aid</th>\n",
       "      <th>religious-groups-in-schools</th>\n",
       "      <th>anti-satellite-test-ban</th>\n",
       "      <th>aid-to-nicaraguan-contras</th>\n",
       "      <th>mx-missile</th>\n",
       "      <th>immigration</th>\n",
       "      <th>fuels-corporation-cutback</th>\n",
       "      <th>education-spending</th>\n",
       "      <th>superfund-right-to-sue</th>\n",
       "      <th>crime</th>\n",
       "      <th>duty-free-exports</th>\n",
       "      <th>export-administration-act-south-africa</th>\n",
       "    </tr>\n",
       "  </thead>\n",
       "  <tbody>\n",
       "    <tr>\n",
       "      <th>0</th>\n",
       "      <td>republican</td>\n",
       "      <td>n</td>\n",
       "      <td>y</td>\n",
       "      <td>n</td>\n",
       "      <td>y</td>\n",
       "      <td>y</td>\n",
       "      <td>y</td>\n",
       "      <td>n</td>\n",
       "      <td>n</td>\n",
       "      <td>n</td>\n",
       "      <td>y</td>\n",
       "      <td>?</td>\n",
       "      <td>y</td>\n",
       "      <td>y</td>\n",
       "      <td>y</td>\n",
       "      <td>n</td>\n",
       "      <td>y</td>\n",
       "    </tr>\n",
       "    <tr>\n",
       "      <th>1</th>\n",
       "      <td>republican</td>\n",
       "      <td>n</td>\n",
       "      <td>y</td>\n",
       "      <td>n</td>\n",
       "      <td>y</td>\n",
       "      <td>y</td>\n",
       "      <td>y</td>\n",
       "      <td>n</td>\n",
       "      <td>n</td>\n",
       "      <td>n</td>\n",
       "      <td>n</td>\n",
       "      <td>n</td>\n",
       "      <td>y</td>\n",
       "      <td>y</td>\n",
       "      <td>y</td>\n",
       "      <td>n</td>\n",
       "      <td>?</td>\n",
       "    </tr>\n",
       "    <tr>\n",
       "      <th>2</th>\n",
       "      <td>democrat</td>\n",
       "      <td>?</td>\n",
       "      <td>y</td>\n",
       "      <td>y</td>\n",
       "      <td>?</td>\n",
       "      <td>y</td>\n",
       "      <td>y</td>\n",
       "      <td>n</td>\n",
       "      <td>n</td>\n",
       "      <td>n</td>\n",
       "      <td>n</td>\n",
       "      <td>y</td>\n",
       "      <td>n</td>\n",
       "      <td>y</td>\n",
       "      <td>y</td>\n",
       "      <td>n</td>\n",
       "      <td>n</td>\n",
       "    </tr>\n",
       "    <tr>\n",
       "      <th>3</th>\n",
       "      <td>democrat</td>\n",
       "      <td>n</td>\n",
       "      <td>y</td>\n",
       "      <td>y</td>\n",
       "      <td>n</td>\n",
       "      <td>?</td>\n",
       "      <td>y</td>\n",
       "      <td>n</td>\n",
       "      <td>n</td>\n",
       "      <td>n</td>\n",
       "      <td>n</td>\n",
       "      <td>y</td>\n",
       "      <td>n</td>\n",
       "      <td>y</td>\n",
       "      <td>n</td>\n",
       "      <td>n</td>\n",
       "      <td>y</td>\n",
       "    </tr>\n",
       "    <tr>\n",
       "      <th>4</th>\n",
       "      <td>democrat</td>\n",
       "      <td>y</td>\n",
       "      <td>y</td>\n",
       "      <td>y</td>\n",
       "      <td>n</td>\n",
       "      <td>y</td>\n",
       "      <td>y</td>\n",
       "      <td>n</td>\n",
       "      <td>n</td>\n",
       "      <td>n</td>\n",
       "      <td>n</td>\n",
       "      <td>y</td>\n",
       "      <td>?</td>\n",
       "      <td>y</td>\n",
       "      <td>y</td>\n",
       "      <td>y</td>\n",
       "      <td>y</td>\n",
       "    </tr>\n",
       "  </tbody>\n",
       "</table>\n",
       "</div>"
      ],
      "text/plain": [
       "   Class Name handicapped-infants water-project-cost-sharing  \\\n",
       "0  republican                   n                          y   \n",
       "1  republican                   n                          y   \n",
       "2    democrat                   ?                          y   \n",
       "3    democrat                   n                          y   \n",
       "4    democrat                   y                          y   \n",
       "\n",
       "  adoption-of-the-budget-resolution physician-fee-freeze el-salvador-aid  \\\n",
       "0                                 n                    y               y   \n",
       "1                                 n                    y               y   \n",
       "2                                 y                    ?               y   \n",
       "3                                 y                    n               ?   \n",
       "4                                 y                    n               y   \n",
       "\n",
       "  religious-groups-in-schools anti-satellite-test-ban  \\\n",
       "0                           y                       n   \n",
       "1                           y                       n   \n",
       "2                           y                       n   \n",
       "3                           y                       n   \n",
       "4                           y                       n   \n",
       "\n",
       "  aid-to-nicaraguan-contras mx-missile immigration fuels-corporation-cutback  \\\n",
       "0                         n          n           y                         ?   \n",
       "1                         n          n           n                         n   \n",
       "2                         n          n           n                         y   \n",
       "3                         n          n           n                         y   \n",
       "4                         n          n           n                         y   \n",
       "\n",
       "  education-spending superfund-right-to-sue crime duty-free-exports  \\\n",
       "0                  y                      y     y                 n   \n",
       "1                  y                      y     y                 n   \n",
       "2                  n                      y     y                 n   \n",
       "3                  n                      y     n                 n   \n",
       "4                  ?                      y     y                 y   \n",
       "\n",
       "  export-administration-act-south-africa  \n",
       "0                                      y  \n",
       "1                                      ?  \n",
       "2                                      n  \n",
       "3                                      y  \n",
       "4                                      y  "
      ]
     },
     "execution_count": 3,
     "metadata": {},
     "output_type": "execute_result"
    }
   ],
   "source": [
    "df = pd.read_csv('house-votes-84-data.csv')\n",
    "df.head()"
   ]
  },
  {
   "cell_type": "markdown",
   "id": "83a651eb",
   "metadata": {},
   "source": [
    "### Understanding Data"
   ]
  },
  {
   "cell_type": "code",
   "execution_count": 4,
   "id": "31ec6599",
   "metadata": {},
   "outputs": [
    {
     "data": {
      "text/plain": [
       "(Index(['Class Name', 'handicapped-infants', 'water-project-cost-sharing',\n",
       "        'adoption-of-the-budget-resolution', 'physician-fee-freeze',\n",
       "        'el-salvador-aid', 'religious-groups-in-schools',\n",
       "        'anti-satellite-test-ban', 'aid-to-nicaraguan-contras', 'mx-missile',\n",
       "        'immigration', 'fuels-corporation-cutback', 'education-spending',\n",
       "        'superfund-right-to-sue', 'crime', 'duty-free-exports',\n",
       "        'export-administration-act-south-africa'],\n",
       "       dtype='object'),\n",
       " (435, 17))"
      ]
     },
     "execution_count": 4,
     "metadata": {},
     "output_type": "execute_result"
    }
   ],
   "source": [
    "df.columns, df.shape"
   ]
  },
  {
   "cell_type": "code",
   "execution_count": 5,
   "id": "a85d69a4",
   "metadata": {},
   "outputs": [
    {
     "data": {
      "text/plain": [
       "Class Name                                0\n",
       "handicapped-infants                       0\n",
       "water-project-cost-sharing                0\n",
       "adoption-of-the-budget-resolution         0\n",
       "physician-fee-freeze                      0\n",
       "el-salvador-aid                           0\n",
       "religious-groups-in-schools               0\n",
       "anti-satellite-test-ban                   0\n",
       "aid-to-nicaraguan-contras                 0\n",
       "mx-missile                                0\n",
       "immigration                               0\n",
       "fuels-corporation-cutback                 0\n",
       "education-spending                        0\n",
       "superfund-right-to-sue                    0\n",
       "crime                                     0\n",
       "duty-free-exports                         0\n",
       "export-administration-act-south-africa    0\n",
       "dtype: int64"
      ]
     },
     "execution_count": 5,
     "metadata": {},
     "output_type": "execute_result"
    }
   ],
   "source": [
    "df.isnull().sum()"
   ]
  },
  {
   "cell_type": "code",
   "execution_count": 6,
   "id": "3a9902a5",
   "metadata": {},
   "outputs": [
    {
     "data": {
      "text/plain": [
       "Class Name                                object\n",
       "handicapped-infants                       object\n",
       "water-project-cost-sharing                object\n",
       "adoption-of-the-budget-resolution         object\n",
       "physician-fee-freeze                      object\n",
       "el-salvador-aid                           object\n",
       "religious-groups-in-schools               object\n",
       "anti-satellite-test-ban                   object\n",
       "aid-to-nicaraguan-contras                 object\n",
       "mx-missile                                object\n",
       "immigration                               object\n",
       "fuels-corporation-cutback                 object\n",
       "education-spending                        object\n",
       "superfund-right-to-sue                    object\n",
       "crime                                     object\n",
       "duty-free-exports                         object\n",
       "export-administration-act-south-africa    object\n",
       "dtype: object"
      ]
     },
     "execution_count": 6,
     "metadata": {},
     "output_type": "execute_result"
    }
   ],
   "source": [
    "df.dtypes"
   ]
  },
  {
   "cell_type": "code",
   "execution_count": 7,
   "id": "e842bb11",
   "metadata": {},
   "outputs": [],
   "source": [
    "df_org = df.copy()"
   ]
  },
  {
   "cell_type": "code",
   "execution_count": 8,
   "id": "1ae8e0e7",
   "metadata": {},
   "outputs": [
    {
     "data": {
      "text/plain": [
       "Class Name                                0\n",
       "handicapped-infants                       0\n",
       "water-project-cost-sharing                0\n",
       "adoption-of-the-budget-resolution         0\n",
       "physician-fee-freeze                      0\n",
       "el-salvador-aid                           0\n",
       "religious-groups-in-schools               0\n",
       "anti-satellite-test-ban                   0\n",
       "aid-to-nicaraguan-contras                 0\n",
       "mx-missile                                0\n",
       "immigration                               0\n",
       "fuels-corporation-cutback                 0\n",
       "education-spending                        0\n",
       "superfund-right-to-sue                    0\n",
       "crime                                     0\n",
       "duty-free-exports                         0\n",
       "export-administration-act-south-africa    0\n",
       "dtype: int64"
      ]
     },
     "execution_count": 8,
     "metadata": {},
     "output_type": "execute_result"
    }
   ],
   "source": [
    "df.isna().sum()"
   ]
  },
  {
   "cell_type": "markdown",
   "id": "bc92bb2c",
   "metadata": {},
   "source": [
    "### Preprocessing Data"
   ]
  },
  {
   "cell_type": "code",
   "execution_count": 9,
   "id": "deb251ba",
   "metadata": {},
   "outputs": [],
   "source": [
    "df.replace(('n', 'y'), (-1, 1), inplace=True)\n",
    "df.replace(('democrat', 'republican'), (1, 0), inplace=True)"
   ]
  },
  {
   "cell_type": "code",
   "execution_count": 10,
   "id": "0ab82d96",
   "metadata": {
    "scrolled": true
   },
   "outputs": [
    {
     "data": {
      "text/html": [
       "<div>\n",
       "<style scoped>\n",
       "    .dataframe tbody tr th:only-of-type {\n",
       "        vertical-align: middle;\n",
       "    }\n",
       "\n",
       "    .dataframe tbody tr th {\n",
       "        vertical-align: top;\n",
       "    }\n",
       "\n",
       "    .dataframe thead th {\n",
       "        text-align: right;\n",
       "    }\n",
       "</style>\n",
       "<table border=\"1\" class=\"dataframe\">\n",
       "  <thead>\n",
       "    <tr style=\"text-align: right;\">\n",
       "      <th></th>\n",
       "      <th>Class Name</th>\n",
       "      <th>handicapped-infants</th>\n",
       "      <th>water-project-cost-sharing</th>\n",
       "      <th>adoption-of-the-budget-resolution</th>\n",
       "      <th>physician-fee-freeze</th>\n",
       "      <th>el-salvador-aid</th>\n",
       "      <th>religious-groups-in-schools</th>\n",
       "      <th>anti-satellite-test-ban</th>\n",
       "      <th>aid-to-nicaraguan-contras</th>\n",
       "      <th>mx-missile</th>\n",
       "      <th>immigration</th>\n",
       "      <th>fuels-corporation-cutback</th>\n",
       "      <th>education-spending</th>\n",
       "      <th>superfund-right-to-sue</th>\n",
       "      <th>crime</th>\n",
       "      <th>duty-free-exports</th>\n",
       "      <th>export-administration-act-south-africa</th>\n",
       "    </tr>\n",
       "  </thead>\n",
       "  <tbody>\n",
       "    <tr>\n",
       "      <th>0</th>\n",
       "      <td>0</td>\n",
       "      <td>-1</td>\n",
       "      <td>1</td>\n",
       "      <td>-1</td>\n",
       "      <td>1</td>\n",
       "      <td>1</td>\n",
       "      <td>1</td>\n",
       "      <td>-1</td>\n",
       "      <td>-1</td>\n",
       "      <td>-1</td>\n",
       "      <td>1</td>\n",
       "      <td>?</td>\n",
       "      <td>1</td>\n",
       "      <td>1</td>\n",
       "      <td>1</td>\n",
       "      <td>-1</td>\n",
       "      <td>1</td>\n",
       "    </tr>\n",
       "    <tr>\n",
       "      <th>1</th>\n",
       "      <td>0</td>\n",
       "      <td>-1</td>\n",
       "      <td>1</td>\n",
       "      <td>-1</td>\n",
       "      <td>1</td>\n",
       "      <td>1</td>\n",
       "      <td>1</td>\n",
       "      <td>-1</td>\n",
       "      <td>-1</td>\n",
       "      <td>-1</td>\n",
       "      <td>-1</td>\n",
       "      <td>-1</td>\n",
       "      <td>1</td>\n",
       "      <td>1</td>\n",
       "      <td>1</td>\n",
       "      <td>-1</td>\n",
       "      <td>?</td>\n",
       "    </tr>\n",
       "    <tr>\n",
       "      <th>2</th>\n",
       "      <td>1</td>\n",
       "      <td>?</td>\n",
       "      <td>1</td>\n",
       "      <td>1</td>\n",
       "      <td>?</td>\n",
       "      <td>1</td>\n",
       "      <td>1</td>\n",
       "      <td>-1</td>\n",
       "      <td>-1</td>\n",
       "      <td>-1</td>\n",
       "      <td>-1</td>\n",
       "      <td>1</td>\n",
       "      <td>-1</td>\n",
       "      <td>1</td>\n",
       "      <td>1</td>\n",
       "      <td>-1</td>\n",
       "      <td>-1</td>\n",
       "    </tr>\n",
       "    <tr>\n",
       "      <th>3</th>\n",
       "      <td>1</td>\n",
       "      <td>-1</td>\n",
       "      <td>1</td>\n",
       "      <td>1</td>\n",
       "      <td>-1</td>\n",
       "      <td>?</td>\n",
       "      <td>1</td>\n",
       "      <td>-1</td>\n",
       "      <td>-1</td>\n",
       "      <td>-1</td>\n",
       "      <td>-1</td>\n",
       "      <td>1</td>\n",
       "      <td>-1</td>\n",
       "      <td>1</td>\n",
       "      <td>-1</td>\n",
       "      <td>-1</td>\n",
       "      <td>1</td>\n",
       "    </tr>\n",
       "    <tr>\n",
       "      <th>4</th>\n",
       "      <td>1</td>\n",
       "      <td>1</td>\n",
       "      <td>1</td>\n",
       "      <td>1</td>\n",
       "      <td>-1</td>\n",
       "      <td>1</td>\n",
       "      <td>1</td>\n",
       "      <td>-1</td>\n",
       "      <td>-1</td>\n",
       "      <td>-1</td>\n",
       "      <td>-1</td>\n",
       "      <td>1</td>\n",
       "      <td>?</td>\n",
       "      <td>1</td>\n",
       "      <td>1</td>\n",
       "      <td>1</td>\n",
       "      <td>1</td>\n",
       "    </tr>\n",
       "  </tbody>\n",
       "</table>\n",
       "</div>"
      ],
      "text/plain": [
       "   Class Name handicapped-infants water-project-cost-sharing  \\\n",
       "0           0                  -1                          1   \n",
       "1           0                  -1                          1   \n",
       "2           1                   ?                          1   \n",
       "3           1                  -1                          1   \n",
       "4           1                   1                          1   \n",
       "\n",
       "  adoption-of-the-budget-resolution physician-fee-freeze el-salvador-aid  \\\n",
       "0                                -1                    1               1   \n",
       "1                                -1                    1               1   \n",
       "2                                 1                    ?               1   \n",
       "3                                 1                   -1               ?   \n",
       "4                                 1                   -1               1   \n",
       "\n",
       "  religious-groups-in-schools anti-satellite-test-ban  \\\n",
       "0                           1                      -1   \n",
       "1                           1                      -1   \n",
       "2                           1                      -1   \n",
       "3                           1                      -1   \n",
       "4                           1                      -1   \n",
       "\n",
       "  aid-to-nicaraguan-contras mx-missile immigration fuels-corporation-cutback  \\\n",
       "0                        -1         -1           1                         ?   \n",
       "1                        -1         -1          -1                        -1   \n",
       "2                        -1         -1          -1                         1   \n",
       "3                        -1         -1          -1                         1   \n",
       "4                        -1         -1          -1                         1   \n",
       "\n",
       "  education-spending superfund-right-to-sue crime duty-free-exports  \\\n",
       "0                  1                      1     1                -1   \n",
       "1                  1                      1     1                -1   \n",
       "2                 -1                      1     1                -1   \n",
       "3                 -1                      1    -1                -1   \n",
       "4                  ?                      1     1                 1   \n",
       "\n",
       "  export-administration-act-south-africa  \n",
       "0                                      1  \n",
       "1                                      ?  \n",
       "2                                     -1  \n",
       "3                                      1  \n",
       "4                                      1  "
      ]
     },
     "execution_count": 10,
     "metadata": {},
     "output_type": "execute_result"
    }
   ],
   "source": [
    "df.head()"
   ]
  },
  {
   "cell_type": "markdown",
   "id": "3aadadc7",
   "metadata": {},
   "source": [
    "#### i) discard instances that have missing feature values"
   ]
  },
  {
   "cell_type": "code",
   "execution_count": 11,
   "id": "ee544b54",
   "metadata": {},
   "outputs": [],
   "source": [
    "df1 = df.copy()\n",
    "df1 = df1[~df1.isin(['?']).any(axis=1)]"
   ]
  },
  {
   "cell_type": "code",
   "execution_count": 12,
   "id": "8452a541",
   "metadata": {},
   "outputs": [
    {
     "data": {
      "text/html": [
       "<div>\n",
       "<style scoped>\n",
       "    .dataframe tbody tr th:only-of-type {\n",
       "        vertical-align: middle;\n",
       "    }\n",
       "\n",
       "    .dataframe tbody tr th {\n",
       "        vertical-align: top;\n",
       "    }\n",
       "\n",
       "    .dataframe thead th {\n",
       "        text-align: right;\n",
       "    }\n",
       "</style>\n",
       "<table border=\"1\" class=\"dataframe\">\n",
       "  <thead>\n",
       "    <tr style=\"text-align: right;\">\n",
       "      <th></th>\n",
       "      <th>Class Name</th>\n",
       "      <th>handicapped-infants</th>\n",
       "      <th>water-project-cost-sharing</th>\n",
       "      <th>adoption-of-the-budget-resolution</th>\n",
       "      <th>physician-fee-freeze</th>\n",
       "      <th>el-salvador-aid</th>\n",
       "      <th>religious-groups-in-schools</th>\n",
       "      <th>anti-satellite-test-ban</th>\n",
       "      <th>aid-to-nicaraguan-contras</th>\n",
       "      <th>mx-missile</th>\n",
       "      <th>immigration</th>\n",
       "      <th>fuels-corporation-cutback</th>\n",
       "      <th>education-spending</th>\n",
       "      <th>superfund-right-to-sue</th>\n",
       "      <th>crime</th>\n",
       "      <th>duty-free-exports</th>\n",
       "      <th>export-administration-act-south-africa</th>\n",
       "    </tr>\n",
       "  </thead>\n",
       "  <tbody>\n",
       "    <tr>\n",
       "      <th>5</th>\n",
       "      <td>1</td>\n",
       "      <td>-1</td>\n",
       "      <td>1</td>\n",
       "      <td>1</td>\n",
       "      <td>-1</td>\n",
       "      <td>1</td>\n",
       "      <td>1</td>\n",
       "      <td>-1</td>\n",
       "      <td>-1</td>\n",
       "      <td>-1</td>\n",
       "      <td>-1</td>\n",
       "      <td>-1</td>\n",
       "      <td>-1</td>\n",
       "      <td>1</td>\n",
       "      <td>1</td>\n",
       "      <td>1</td>\n",
       "      <td>1</td>\n",
       "    </tr>\n",
       "    <tr>\n",
       "      <th>8</th>\n",
       "      <td>0</td>\n",
       "      <td>-1</td>\n",
       "      <td>1</td>\n",
       "      <td>-1</td>\n",
       "      <td>1</td>\n",
       "      <td>1</td>\n",
       "      <td>1</td>\n",
       "      <td>-1</td>\n",
       "      <td>-1</td>\n",
       "      <td>-1</td>\n",
       "      <td>-1</td>\n",
       "      <td>-1</td>\n",
       "      <td>1</td>\n",
       "      <td>1</td>\n",
       "      <td>1</td>\n",
       "      <td>-1</td>\n",
       "      <td>1</td>\n",
       "    </tr>\n",
       "    <tr>\n",
       "      <th>19</th>\n",
       "      <td>1</td>\n",
       "      <td>1</td>\n",
       "      <td>1</td>\n",
       "      <td>1</td>\n",
       "      <td>-1</td>\n",
       "      <td>-1</td>\n",
       "      <td>-1</td>\n",
       "      <td>1</td>\n",
       "      <td>1</td>\n",
       "      <td>1</td>\n",
       "      <td>-1</td>\n",
       "      <td>1</td>\n",
       "      <td>-1</td>\n",
       "      <td>-1</td>\n",
       "      <td>-1</td>\n",
       "      <td>1</td>\n",
       "      <td>1</td>\n",
       "    </tr>\n",
       "    <tr>\n",
       "      <th>23</th>\n",
       "      <td>1</td>\n",
       "      <td>1</td>\n",
       "      <td>1</td>\n",
       "      <td>1</td>\n",
       "      <td>-1</td>\n",
       "      <td>-1</td>\n",
       "      <td>-1</td>\n",
       "      <td>1</td>\n",
       "      <td>1</td>\n",
       "      <td>1</td>\n",
       "      <td>-1</td>\n",
       "      <td>-1</td>\n",
       "      <td>-1</td>\n",
       "      <td>-1</td>\n",
       "      <td>-1</td>\n",
       "      <td>1</td>\n",
       "      <td>1</td>\n",
       "    </tr>\n",
       "    <tr>\n",
       "      <th>25</th>\n",
       "      <td>1</td>\n",
       "      <td>1</td>\n",
       "      <td>-1</td>\n",
       "      <td>1</td>\n",
       "      <td>-1</td>\n",
       "      <td>-1</td>\n",
       "      <td>-1</td>\n",
       "      <td>1</td>\n",
       "      <td>1</td>\n",
       "      <td>1</td>\n",
       "      <td>1</td>\n",
       "      <td>-1</td>\n",
       "      <td>-1</td>\n",
       "      <td>-1</td>\n",
       "      <td>-1</td>\n",
       "      <td>1</td>\n",
       "      <td>1</td>\n",
       "    </tr>\n",
       "  </tbody>\n",
       "</table>\n",
       "</div>"
      ],
      "text/plain": [
       "    Class Name handicapped-infants water-project-cost-sharing  \\\n",
       "5            1                  -1                          1   \n",
       "8            0                  -1                          1   \n",
       "19           1                   1                          1   \n",
       "23           1                   1                          1   \n",
       "25           1                   1                         -1   \n",
       "\n",
       "   adoption-of-the-budget-resolution physician-fee-freeze el-salvador-aid  \\\n",
       "5                                  1                   -1               1   \n",
       "8                                 -1                    1               1   \n",
       "19                                 1                   -1              -1   \n",
       "23                                 1                   -1              -1   \n",
       "25                                 1                   -1              -1   \n",
       "\n",
       "   religious-groups-in-schools anti-satellite-test-ban  \\\n",
       "5                            1                      -1   \n",
       "8                            1                      -1   \n",
       "19                          -1                       1   \n",
       "23                          -1                       1   \n",
       "25                          -1                       1   \n",
       "\n",
       "   aid-to-nicaraguan-contras mx-missile immigration fuels-corporation-cutback  \\\n",
       "5                         -1         -1          -1                        -1   \n",
       "8                         -1         -1          -1                        -1   \n",
       "19                         1          1          -1                         1   \n",
       "23                         1          1          -1                        -1   \n",
       "25                         1          1           1                        -1   \n",
       "\n",
       "   education-spending superfund-right-to-sue crime duty-free-exports  \\\n",
       "5                  -1                      1     1                 1   \n",
       "8                   1                      1     1                -1   \n",
       "19                 -1                     -1    -1                 1   \n",
       "23                 -1                     -1    -1                 1   \n",
       "25                 -1                     -1    -1                 1   \n",
       "\n",
       "   export-administration-act-south-africa  \n",
       "5                                       1  \n",
       "8                                       1  \n",
       "19                                      1  \n",
       "23                                      1  \n",
       "25                                      1  "
      ]
     },
     "execution_count": 12,
     "metadata": {},
     "output_type": "execute_result"
    }
   ],
   "source": [
    "df1.head()"
   ]
  },
  {
   "cell_type": "markdown",
   "id": "9ea22744",
   "metadata": {},
   "source": [
    "#### ii) treat “missing” as if it is a value (and thus a binary feature becomes a ternary, or three-valued, feature) : replaced '?' values with 0, 'n' with -1 and 'y' with 1"
   ]
  },
  {
   "cell_type": "code",
   "execution_count": 13,
   "id": "feed1e1b",
   "metadata": {},
   "outputs": [],
   "source": [
    "df2 = df.copy()\n",
    "df2.replace(('?'), (0), inplace=True)"
   ]
  },
  {
   "cell_type": "code",
   "execution_count": 14,
   "id": "70389275",
   "metadata": {
    "scrolled": true
   },
   "outputs": [
    {
     "data": {
      "text/html": [
       "<div>\n",
       "<style scoped>\n",
       "    .dataframe tbody tr th:only-of-type {\n",
       "        vertical-align: middle;\n",
       "    }\n",
       "\n",
       "    .dataframe tbody tr th {\n",
       "        vertical-align: top;\n",
       "    }\n",
       "\n",
       "    .dataframe thead th {\n",
       "        text-align: right;\n",
       "    }\n",
       "</style>\n",
       "<table border=\"1\" class=\"dataframe\">\n",
       "  <thead>\n",
       "    <tr style=\"text-align: right;\">\n",
       "      <th></th>\n",
       "      <th>Class Name</th>\n",
       "      <th>handicapped-infants</th>\n",
       "      <th>water-project-cost-sharing</th>\n",
       "      <th>adoption-of-the-budget-resolution</th>\n",
       "      <th>physician-fee-freeze</th>\n",
       "      <th>el-salvador-aid</th>\n",
       "      <th>religious-groups-in-schools</th>\n",
       "      <th>anti-satellite-test-ban</th>\n",
       "      <th>aid-to-nicaraguan-contras</th>\n",
       "      <th>mx-missile</th>\n",
       "      <th>immigration</th>\n",
       "      <th>fuels-corporation-cutback</th>\n",
       "      <th>education-spending</th>\n",
       "      <th>superfund-right-to-sue</th>\n",
       "      <th>crime</th>\n",
       "      <th>duty-free-exports</th>\n",
       "      <th>export-administration-act-south-africa</th>\n",
       "    </tr>\n",
       "  </thead>\n",
       "  <tbody>\n",
       "    <tr>\n",
       "      <th>0</th>\n",
       "      <td>0</td>\n",
       "      <td>-1</td>\n",
       "      <td>1</td>\n",
       "      <td>-1</td>\n",
       "      <td>1</td>\n",
       "      <td>1</td>\n",
       "      <td>1</td>\n",
       "      <td>-1</td>\n",
       "      <td>-1</td>\n",
       "      <td>-1</td>\n",
       "      <td>1</td>\n",
       "      <td>0</td>\n",
       "      <td>1</td>\n",
       "      <td>1</td>\n",
       "      <td>1</td>\n",
       "      <td>-1</td>\n",
       "      <td>1</td>\n",
       "    </tr>\n",
       "    <tr>\n",
       "      <th>1</th>\n",
       "      <td>0</td>\n",
       "      <td>-1</td>\n",
       "      <td>1</td>\n",
       "      <td>-1</td>\n",
       "      <td>1</td>\n",
       "      <td>1</td>\n",
       "      <td>1</td>\n",
       "      <td>-1</td>\n",
       "      <td>-1</td>\n",
       "      <td>-1</td>\n",
       "      <td>-1</td>\n",
       "      <td>-1</td>\n",
       "      <td>1</td>\n",
       "      <td>1</td>\n",
       "      <td>1</td>\n",
       "      <td>-1</td>\n",
       "      <td>0</td>\n",
       "    </tr>\n",
       "    <tr>\n",
       "      <th>2</th>\n",
       "      <td>1</td>\n",
       "      <td>0</td>\n",
       "      <td>1</td>\n",
       "      <td>1</td>\n",
       "      <td>0</td>\n",
       "      <td>1</td>\n",
       "      <td>1</td>\n",
       "      <td>-1</td>\n",
       "      <td>-1</td>\n",
       "      <td>-1</td>\n",
       "      <td>-1</td>\n",
       "      <td>1</td>\n",
       "      <td>-1</td>\n",
       "      <td>1</td>\n",
       "      <td>1</td>\n",
       "      <td>-1</td>\n",
       "      <td>-1</td>\n",
       "    </tr>\n",
       "    <tr>\n",
       "      <th>3</th>\n",
       "      <td>1</td>\n",
       "      <td>-1</td>\n",
       "      <td>1</td>\n",
       "      <td>1</td>\n",
       "      <td>-1</td>\n",
       "      <td>0</td>\n",
       "      <td>1</td>\n",
       "      <td>-1</td>\n",
       "      <td>-1</td>\n",
       "      <td>-1</td>\n",
       "      <td>-1</td>\n",
       "      <td>1</td>\n",
       "      <td>-1</td>\n",
       "      <td>1</td>\n",
       "      <td>-1</td>\n",
       "      <td>-1</td>\n",
       "      <td>1</td>\n",
       "    </tr>\n",
       "    <tr>\n",
       "      <th>4</th>\n",
       "      <td>1</td>\n",
       "      <td>1</td>\n",
       "      <td>1</td>\n",
       "      <td>1</td>\n",
       "      <td>-1</td>\n",
       "      <td>1</td>\n",
       "      <td>1</td>\n",
       "      <td>-1</td>\n",
       "      <td>-1</td>\n",
       "      <td>-1</td>\n",
       "      <td>-1</td>\n",
       "      <td>1</td>\n",
       "      <td>0</td>\n",
       "      <td>1</td>\n",
       "      <td>1</td>\n",
       "      <td>1</td>\n",
       "      <td>1</td>\n",
       "    </tr>\n",
       "  </tbody>\n",
       "</table>\n",
       "</div>"
      ],
      "text/plain": [
       "   Class Name  handicapped-infants  water-project-cost-sharing  \\\n",
       "0           0                   -1                           1   \n",
       "1           0                   -1                           1   \n",
       "2           1                    0                           1   \n",
       "3           1                   -1                           1   \n",
       "4           1                    1                           1   \n",
       "\n",
       "   adoption-of-the-budget-resolution  physician-fee-freeze  el-salvador-aid  \\\n",
       "0                                 -1                     1                1   \n",
       "1                                 -1                     1                1   \n",
       "2                                  1                     0                1   \n",
       "3                                  1                    -1                0   \n",
       "4                                  1                    -1                1   \n",
       "\n",
       "   religious-groups-in-schools  anti-satellite-test-ban  \\\n",
       "0                            1                       -1   \n",
       "1                            1                       -1   \n",
       "2                            1                       -1   \n",
       "3                            1                       -1   \n",
       "4                            1                       -1   \n",
       "\n",
       "   aid-to-nicaraguan-contras  mx-missile  immigration  \\\n",
       "0                         -1          -1            1   \n",
       "1                         -1          -1           -1   \n",
       "2                         -1          -1           -1   \n",
       "3                         -1          -1           -1   \n",
       "4                         -1          -1           -1   \n",
       "\n",
       "   fuels-corporation-cutback  education-spending  superfund-right-to-sue  \\\n",
       "0                          0                   1                       1   \n",
       "1                         -1                   1                       1   \n",
       "2                          1                  -1                       1   \n",
       "3                          1                  -1                       1   \n",
       "4                          1                   0                       1   \n",
       "\n",
       "   crime  duty-free-exports  export-administration-act-south-africa  \n",
       "0      1                 -1                                       1  \n",
       "1      1                 -1                                       0  \n",
       "2      1                 -1                                      -1  \n",
       "3     -1                 -1                                       1  \n",
       "4      1                  1                                       1  "
      ]
     },
     "execution_count": 14,
     "metadata": {},
     "output_type": "execute_result"
    }
   ],
   "source": [
    "df2.head()"
   ]
  },
  {
   "cell_type": "code",
   "execution_count": 15,
   "id": "bd42c76e",
   "metadata": {
    "scrolled": true
   },
   "outputs": [
    {
     "data": {
      "text/plain": [
       "Class Name                                int64\n",
       "handicapped-infants                       int64\n",
       "water-project-cost-sharing                int64\n",
       "adoption-of-the-budget-resolution         int64\n",
       "physician-fee-freeze                      int64\n",
       "el-salvador-aid                           int64\n",
       "religious-groups-in-schools               int64\n",
       "anti-satellite-test-ban                   int64\n",
       "aid-to-nicaraguan-contras                 int64\n",
       "mx-missile                                int64\n",
       "immigration                               int64\n",
       "fuels-corporation-cutback                 int64\n",
       "education-spending                        int64\n",
       "superfund-right-to-sue                    int64\n",
       "crime                                     int64\n",
       "duty-free-exports                         int64\n",
       "export-administration-act-south-africa    int64\n",
       "dtype: object"
      ]
     },
     "execution_count": 15,
     "metadata": {},
     "output_type": "execute_result"
    }
   ],
   "source": [
    "df2.dtypes"
   ]
  },
  {
   "cell_type": "code",
   "execution_count": 16,
   "id": "69286fde",
   "metadata": {},
   "outputs": [
    {
     "data": {
      "text/html": [
       "<div>\n",
       "<style scoped>\n",
       "    .dataframe tbody tr th:only-of-type {\n",
       "        vertical-align: middle;\n",
       "    }\n",
       "\n",
       "    .dataframe tbody tr th {\n",
       "        vertical-align: top;\n",
       "    }\n",
       "\n",
       "    .dataframe thead th {\n",
       "        text-align: right;\n",
       "    }\n",
       "</style>\n",
       "<table border=\"1\" class=\"dataframe\">\n",
       "  <thead>\n",
       "    <tr style=\"text-align: right;\">\n",
       "      <th></th>\n",
       "      <th>Class Name</th>\n",
       "      <th>handicapped-infants</th>\n",
       "      <th>water-project-cost-sharing</th>\n",
       "      <th>adoption-of-the-budget-resolution</th>\n",
       "      <th>physician-fee-freeze</th>\n",
       "      <th>el-salvador-aid</th>\n",
       "      <th>religious-groups-in-schools</th>\n",
       "      <th>anti-satellite-test-ban</th>\n",
       "      <th>aid-to-nicaraguan-contras</th>\n",
       "      <th>mx-missile</th>\n",
       "      <th>immigration</th>\n",
       "      <th>fuels-corporation-cutback</th>\n",
       "      <th>education-spending</th>\n",
       "      <th>superfund-right-to-sue</th>\n",
       "      <th>crime</th>\n",
       "      <th>duty-free-exports</th>\n",
       "      <th>export-administration-act-south-africa</th>\n",
       "    </tr>\n",
       "  </thead>\n",
       "  <tbody>\n",
       "    <tr>\n",
       "      <th>count</th>\n",
       "      <td>435.00</td>\n",
       "      <td>435.00</td>\n",
       "      <td>435.00</td>\n",
       "      <td>435.00</td>\n",
       "      <td>435.00</td>\n",
       "      <td>435.00</td>\n",
       "      <td>435.00</td>\n",
       "      <td>435.00</td>\n",
       "      <td>435.00</td>\n",
       "      <td>435.00</td>\n",
       "      <td>435.00</td>\n",
       "      <td>435.00</td>\n",
       "      <td>435.00</td>\n",
       "      <td>435.00</td>\n",
       "      <td>435.00</td>\n",
       "      <td>435.00</td>\n",
       "      <td>435.00</td>\n",
       "    </tr>\n",
       "    <tr>\n",
       "      <th>mean</th>\n",
       "      <td>0.61</td>\n",
       "      <td>-0.11</td>\n",
       "      <td>0.01</td>\n",
       "      <td>0.19</td>\n",
       "      <td>-0.16</td>\n",
       "      <td>0.01</td>\n",
       "      <td>0.28</td>\n",
       "      <td>0.13</td>\n",
       "      <td>0.15</td>\n",
       "      <td>0.00</td>\n",
       "      <td>0.01</td>\n",
       "      <td>-0.26</td>\n",
       "      <td>-0.14</td>\n",
       "      <td>0.02</td>\n",
       "      <td>0.18</td>\n",
       "      <td>-0.14</td>\n",
       "      <td>0.48</td>\n",
       "    </tr>\n",
       "    <tr>\n",
       "      <th>std</th>\n",
       "      <td>0.49</td>\n",
       "      <td>0.98</td>\n",
       "      <td>0.94</td>\n",
       "      <td>0.97</td>\n",
       "      <td>0.98</td>\n",
       "      <td>0.98</td>\n",
       "      <td>0.95</td>\n",
       "      <td>0.98</td>\n",
       "      <td>0.97</td>\n",
       "      <td>0.98</td>\n",
       "      <td>0.99</td>\n",
       "      <td>0.94</td>\n",
       "      <td>0.95</td>\n",
       "      <td>0.97</td>\n",
       "      <td>0.96</td>\n",
       "      <td>0.96</td>\n",
       "      <td>0.73</td>\n",
       "    </tr>\n",
       "    <tr>\n",
       "      <th>min</th>\n",
       "      <td>0.00</td>\n",
       "      <td>-1.00</td>\n",
       "      <td>-1.00</td>\n",
       "      <td>-1.00</td>\n",
       "      <td>-1.00</td>\n",
       "      <td>-1.00</td>\n",
       "      <td>-1.00</td>\n",
       "      <td>-1.00</td>\n",
       "      <td>-1.00</td>\n",
       "      <td>-1.00</td>\n",
       "      <td>-1.00</td>\n",
       "      <td>-1.00</td>\n",
       "      <td>-1.00</td>\n",
       "      <td>-1.00</td>\n",
       "      <td>-1.00</td>\n",
       "      <td>-1.00</td>\n",
       "      <td>-1.00</td>\n",
       "    </tr>\n",
       "    <tr>\n",
       "      <th>25%</th>\n",
       "      <td>0.00</td>\n",
       "      <td>-1.00</td>\n",
       "      <td>-1.00</td>\n",
       "      <td>-1.00</td>\n",
       "      <td>-1.00</td>\n",
       "      <td>-1.00</td>\n",
       "      <td>-1.00</td>\n",
       "      <td>-1.00</td>\n",
       "      <td>-1.00</td>\n",
       "      <td>-1.00</td>\n",
       "      <td>-1.00</td>\n",
       "      <td>-1.00</td>\n",
       "      <td>-1.00</td>\n",
       "      <td>-1.00</td>\n",
       "      <td>-1.00</td>\n",
       "      <td>-1.00</td>\n",
       "      <td>0.00</td>\n",
       "    </tr>\n",
       "    <tr>\n",
       "      <th>50%</th>\n",
       "      <td>1.00</td>\n",
       "      <td>-1.00</td>\n",
       "      <td>0.00</td>\n",
       "      <td>1.00</td>\n",
       "      <td>-1.00</td>\n",
       "      <td>0.00</td>\n",
       "      <td>1.00</td>\n",
       "      <td>1.00</td>\n",
       "      <td>1.00</td>\n",
       "      <td>0.00</td>\n",
       "      <td>0.00</td>\n",
       "      <td>-1.00</td>\n",
       "      <td>-1.00</td>\n",
       "      <td>0.00</td>\n",
       "      <td>1.00</td>\n",
       "      <td>-1.00</td>\n",
       "      <td>1.00</td>\n",
       "    </tr>\n",
       "    <tr>\n",
       "      <th>75%</th>\n",
       "      <td>1.00</td>\n",
       "      <td>1.00</td>\n",
       "      <td>1.00</td>\n",
       "      <td>1.00</td>\n",
       "      <td>1.00</td>\n",
       "      <td>1.00</td>\n",
       "      <td>1.00</td>\n",
       "      <td>1.00</td>\n",
       "      <td>1.00</td>\n",
       "      <td>1.00</td>\n",
       "      <td>1.00</td>\n",
       "      <td>1.00</td>\n",
       "      <td>1.00</td>\n",
       "      <td>1.00</td>\n",
       "      <td>1.00</td>\n",
       "      <td>1.00</td>\n",
       "      <td>1.00</td>\n",
       "    </tr>\n",
       "    <tr>\n",
       "      <th>max</th>\n",
       "      <td>1.00</td>\n",
       "      <td>1.00</td>\n",
       "      <td>1.00</td>\n",
       "      <td>1.00</td>\n",
       "      <td>1.00</td>\n",
       "      <td>1.00</td>\n",
       "      <td>1.00</td>\n",
       "      <td>1.00</td>\n",
       "      <td>1.00</td>\n",
       "      <td>1.00</td>\n",
       "      <td>1.00</td>\n",
       "      <td>1.00</td>\n",
       "      <td>1.00</td>\n",
       "      <td>1.00</td>\n",
       "      <td>1.00</td>\n",
       "      <td>1.00</td>\n",
       "      <td>1.00</td>\n",
       "    </tr>\n",
       "  </tbody>\n",
       "</table>\n",
       "</div>"
      ],
      "text/plain": [
       "       Class Name  handicapped-infants  water-project-cost-sharing  \\\n",
       "count      435.00               435.00                      435.00   \n",
       "mean         0.61                -0.11                        0.01   \n",
       "std          0.49                 0.98                        0.94   \n",
       "min          0.00                -1.00                       -1.00   \n",
       "25%          0.00                -1.00                       -1.00   \n",
       "50%          1.00                -1.00                        0.00   \n",
       "75%          1.00                 1.00                        1.00   \n",
       "max          1.00                 1.00                        1.00   \n",
       "\n",
       "       adoption-of-the-budget-resolution  physician-fee-freeze  \\\n",
       "count                             435.00                435.00   \n",
       "mean                                0.19                 -0.16   \n",
       "std                                 0.97                  0.98   \n",
       "min                                -1.00                 -1.00   \n",
       "25%                                -1.00                 -1.00   \n",
       "50%                                 1.00                 -1.00   \n",
       "75%                                 1.00                  1.00   \n",
       "max                                 1.00                  1.00   \n",
       "\n",
       "       el-salvador-aid  religious-groups-in-schools  anti-satellite-test-ban  \\\n",
       "count           435.00                       435.00                   435.00   \n",
       "mean              0.01                         0.28                     0.13   \n",
       "std               0.98                         0.95                     0.98   \n",
       "min              -1.00                        -1.00                    -1.00   \n",
       "25%              -1.00                        -1.00                    -1.00   \n",
       "50%               0.00                         1.00                     1.00   \n",
       "75%               1.00                         1.00                     1.00   \n",
       "max               1.00                         1.00                     1.00   \n",
       "\n",
       "       aid-to-nicaraguan-contras  mx-missile  immigration  \\\n",
       "count                     435.00      435.00       435.00   \n",
       "mean                        0.15        0.00         0.01   \n",
       "std                         0.97        0.98         0.99   \n",
       "min                        -1.00       -1.00        -1.00   \n",
       "25%                        -1.00       -1.00        -1.00   \n",
       "50%                         1.00        0.00         0.00   \n",
       "75%                         1.00        1.00         1.00   \n",
       "max                         1.00        1.00         1.00   \n",
       "\n",
       "       fuels-corporation-cutback  education-spending  superfund-right-to-sue  \\\n",
       "count                     435.00              435.00                  435.00   \n",
       "mean                       -0.26               -0.14                    0.02   \n",
       "std                         0.94                0.95                    0.97   \n",
       "min                        -1.00               -1.00                   -1.00   \n",
       "25%                        -1.00               -1.00                   -1.00   \n",
       "50%                        -1.00               -1.00                    0.00   \n",
       "75%                         1.00                1.00                    1.00   \n",
       "max                         1.00                1.00                    1.00   \n",
       "\n",
       "        crime  duty-free-exports  export-administration-act-south-africa  \n",
       "count  435.00             435.00                                  435.00  \n",
       "mean     0.18              -0.14                                    0.48  \n",
       "std      0.96               0.96                                    0.73  \n",
       "min     -1.00              -1.00                                   -1.00  \n",
       "25%     -1.00              -1.00                                    0.00  \n",
       "50%      1.00              -1.00                                    1.00  \n",
       "75%      1.00               1.00                                    1.00  \n",
       "max      1.00               1.00                                    1.00  "
      ]
     },
     "execution_count": 16,
     "metadata": {},
     "output_type": "execute_result"
    }
   ],
   "source": [
    "df2.describe().round(2)"
   ]
  },
  {
   "cell_type": "code",
   "execution_count": 17,
   "id": "e871e4bc",
   "metadata": {},
   "outputs": [
    {
     "data": {
      "text/html": [
       "<div>\n",
       "<style scoped>\n",
       "    .dataframe tbody tr th:only-of-type {\n",
       "        vertical-align: middle;\n",
       "    }\n",
       "\n",
       "    .dataframe tbody tr th {\n",
       "        vertical-align: top;\n",
       "    }\n",
       "\n",
       "    .dataframe thead th {\n",
       "        text-align: right;\n",
       "    }\n",
       "</style>\n",
       "<table border=\"1\" class=\"dataframe\">\n",
       "  <thead>\n",
       "    <tr style=\"text-align: right;\">\n",
       "      <th></th>\n",
       "      <th>Class Name</th>\n",
       "      <th>handicapped-infants</th>\n",
       "      <th>water-project-cost-sharing</th>\n",
       "      <th>adoption-of-the-budget-resolution</th>\n",
       "      <th>physician-fee-freeze</th>\n",
       "      <th>el-salvador-aid</th>\n",
       "      <th>religious-groups-in-schools</th>\n",
       "      <th>anti-satellite-test-ban</th>\n",
       "      <th>aid-to-nicaraguan-contras</th>\n",
       "      <th>mx-missile</th>\n",
       "      <th>immigration</th>\n",
       "      <th>fuels-corporation-cutback</th>\n",
       "      <th>education-spending</th>\n",
       "      <th>superfund-right-to-sue</th>\n",
       "      <th>crime</th>\n",
       "      <th>duty-free-exports</th>\n",
       "      <th>export-administration-act-south-africa</th>\n",
       "    </tr>\n",
       "  </thead>\n",
       "  <tbody>\n",
       "    <tr>\n",
       "      <th>Class Name</th>\n",
       "      <td>1.00</td>\n",
       "      <td>0.41</td>\n",
       "      <td>-0.00</td>\n",
       "      <td>0.74</td>\n",
       "      <td>-0.91</td>\n",
       "      <td>-0.71</td>\n",
       "      <td>-0.43</td>\n",
       "      <td>0.51</td>\n",
       "      <td>0.65</td>\n",
       "      <td>0.62</td>\n",
       "      <td>-0.08</td>\n",
       "      <td>0.37</td>\n",
       "      <td>-0.69</td>\n",
       "      <td>-0.54</td>\n",
       "      <td>-0.61</td>\n",
       "      <td>0.52</td>\n",
       "      <td>0.22</td>\n",
       "    </tr>\n",
       "    <tr>\n",
       "      <th>handicapped-infants</th>\n",
       "      <td>0.41</td>\n",
       "      <td>1.00</td>\n",
       "      <td>0.02</td>\n",
       "      <td>0.40</td>\n",
       "      <td>-0.42</td>\n",
       "      <td>-0.37</td>\n",
       "      <td>-0.40</td>\n",
       "      <td>0.36</td>\n",
       "      <td>0.40</td>\n",
       "      <td>0.34</td>\n",
       "      <td>-0.09</td>\n",
       "      <td>0.11</td>\n",
       "      <td>-0.41</td>\n",
       "      <td>-0.35</td>\n",
       "      <td>-0.37</td>\n",
       "      <td>0.20</td>\n",
       "      <td>0.12</td>\n",
       "    </tr>\n",
       "    <tr>\n",
       "      <th>water-project-cost-sharing</th>\n",
       "      <td>-0.00</td>\n",
       "      <td>0.02</td>\n",
       "      <td>1.00</td>\n",
       "      <td>-0.05</td>\n",
       "      <td>0.08</td>\n",
       "      <td>0.13</td>\n",
       "      <td>0.15</td>\n",
       "      <td>-0.20</td>\n",
       "      <td>-0.10</td>\n",
       "      <td>-0.19</td>\n",
       "      <td>-0.12</td>\n",
       "      <td>0.19</td>\n",
       "      <td>-0.02</td>\n",
       "      <td>0.22</td>\n",
       "      <td>-0.02</td>\n",
       "      <td>-0.11</td>\n",
       "      <td>-0.09</td>\n",
       "    </tr>\n",
       "    <tr>\n",
       "      <th>adoption-of-the-budget-resolution</th>\n",
       "      <td>0.74</td>\n",
       "      <td>0.40</td>\n",
       "      <td>-0.05</td>\n",
       "      <td>1.00</td>\n",
       "      <td>-0.73</td>\n",
       "      <td>-0.65</td>\n",
       "      <td>-0.43</td>\n",
       "      <td>0.58</td>\n",
       "      <td>0.70</td>\n",
       "      <td>0.60</td>\n",
       "      <td>0.02</td>\n",
       "      <td>0.22</td>\n",
       "      <td>-0.65</td>\n",
       "      <td>-0.53</td>\n",
       "      <td>-0.59</td>\n",
       "      <td>0.48</td>\n",
       "      <td>0.31</td>\n",
       "    </tr>\n",
       "    <tr>\n",
       "      <th>physician-fee-freeze</th>\n",
       "      <td>-0.91</td>\n",
       "      <td>-0.42</td>\n",
       "      <td>0.08</td>\n",
       "      <td>-0.73</td>\n",
       "      <td>1.00</td>\n",
       "      <td>0.75</td>\n",
       "      <td>0.48</td>\n",
       "      <td>-0.58</td>\n",
       "      <td>-0.69</td>\n",
       "      <td>-0.64</td>\n",
       "      <td>0.04</td>\n",
       "      <td>-0.28</td>\n",
       "      <td>0.69</td>\n",
       "      <td>0.59</td>\n",
       "      <td>0.65</td>\n",
       "      <td>-0.54</td>\n",
       "      <td>-0.27</td>\n",
       "    </tr>\n",
       "    <tr>\n",
       "      <th>el-salvador-aid</th>\n",
       "      <td>-0.71</td>\n",
       "      <td>-0.37</td>\n",
       "      <td>0.13</td>\n",
       "      <td>-0.65</td>\n",
       "      <td>0.75</td>\n",
       "      <td>1.00</td>\n",
       "      <td>0.62</td>\n",
       "      <td>-0.69</td>\n",
       "      <td>-0.83</td>\n",
       "      <td>-0.78</td>\n",
       "      <td>0.01</td>\n",
       "      <td>-0.15</td>\n",
       "      <td>0.63</td>\n",
       "      <td>0.65</td>\n",
       "      <td>0.70</td>\n",
       "      <td>-0.56</td>\n",
       "      <td>-0.27</td>\n",
       "    </tr>\n",
       "    <tr>\n",
       "      <th>religious-groups-in-schools</th>\n",
       "      <td>-0.43</td>\n",
       "      <td>-0.40</td>\n",
       "      <td>0.15</td>\n",
       "      <td>-0.43</td>\n",
       "      <td>0.48</td>\n",
       "      <td>0.62</td>\n",
       "      <td>1.00</td>\n",
       "      <td>-0.54</td>\n",
       "      <td>-0.55</td>\n",
       "      <td>-0.57</td>\n",
       "      <td>0.09</td>\n",
       "      <td>0.01</td>\n",
       "      <td>0.51</td>\n",
       "      <td>0.55</td>\n",
       "      <td>0.58</td>\n",
       "      <td>-0.45</td>\n",
       "      <td>-0.20</td>\n",
       "    </tr>\n",
       "    <tr>\n",
       "      <th>anti-satellite-test-ban</th>\n",
       "      <td>0.51</td>\n",
       "      <td>0.36</td>\n",
       "      <td>-0.20</td>\n",
       "      <td>0.58</td>\n",
       "      <td>-0.58</td>\n",
       "      <td>-0.69</td>\n",
       "      <td>-0.54</td>\n",
       "      <td>1.00</td>\n",
       "      <td>0.72</td>\n",
       "      <td>0.66</td>\n",
       "      <td>0.03</td>\n",
       "      <td>0.04</td>\n",
       "      <td>-0.54</td>\n",
       "      <td>-0.57</td>\n",
       "      <td>-0.52</td>\n",
       "      <td>0.48</td>\n",
       "      <td>0.35</td>\n",
       "    </tr>\n",
       "    <tr>\n",
       "      <th>aid-to-nicaraguan-contras</th>\n",
       "      <td>0.65</td>\n",
       "      <td>0.40</td>\n",
       "      <td>-0.10</td>\n",
       "      <td>0.70</td>\n",
       "      <td>-0.69</td>\n",
       "      <td>-0.83</td>\n",
       "      <td>-0.55</td>\n",
       "      <td>0.72</td>\n",
       "      <td>1.00</td>\n",
       "      <td>0.74</td>\n",
       "      <td>0.03</td>\n",
       "      <td>0.14</td>\n",
       "      <td>-0.62</td>\n",
       "      <td>-0.61</td>\n",
       "      <td>-0.62</td>\n",
       "      <td>0.54</td>\n",
       "      <td>0.32</td>\n",
       "    </tr>\n",
       "    <tr>\n",
       "      <th>mx-missile</th>\n",
       "      <td>0.62</td>\n",
       "      <td>0.34</td>\n",
       "      <td>-0.19</td>\n",
       "      <td>0.60</td>\n",
       "      <td>-0.64</td>\n",
       "      <td>-0.78</td>\n",
       "      <td>-0.57</td>\n",
       "      <td>0.66</td>\n",
       "      <td>0.74</td>\n",
       "      <td>1.00</td>\n",
       "      <td>0.03</td>\n",
       "      <td>0.04</td>\n",
       "      <td>-0.59</td>\n",
       "      <td>-0.53</td>\n",
       "      <td>-0.56</td>\n",
       "      <td>0.48</td>\n",
       "      <td>0.29</td>\n",
       "    </tr>\n",
       "    <tr>\n",
       "      <th>immigration</th>\n",
       "      <td>-0.08</td>\n",
       "      <td>-0.09</td>\n",
       "      <td>-0.12</td>\n",
       "      <td>0.02</td>\n",
       "      <td>0.04</td>\n",
       "      <td>0.01</td>\n",
       "      <td>0.09</td>\n",
       "      <td>0.03</td>\n",
       "      <td>0.03</td>\n",
       "      <td>0.03</td>\n",
       "      <td>1.00</td>\n",
       "      <td>-0.03</td>\n",
       "      <td>0.04</td>\n",
       "      <td>0.05</td>\n",
       "      <td>0.12</td>\n",
       "      <td>-0.06</td>\n",
       "      <td>0.12</td>\n",
       "    </tr>\n",
       "    <tr>\n",
       "      <th>fuels-corporation-cutback</th>\n",
       "      <td>0.37</td>\n",
       "      <td>0.11</td>\n",
       "      <td>0.19</td>\n",
       "      <td>0.22</td>\n",
       "      <td>-0.28</td>\n",
       "      <td>-0.15</td>\n",
       "      <td>0.01</td>\n",
       "      <td>0.04</td>\n",
       "      <td>0.14</td>\n",
       "      <td>0.04</td>\n",
       "      <td>-0.03</td>\n",
       "      <td>1.00</td>\n",
       "      <td>-0.20</td>\n",
       "      <td>-0.10</td>\n",
       "      <td>-0.13</td>\n",
       "      <td>0.15</td>\n",
       "      <td>0.04</td>\n",
       "    </tr>\n",
       "    <tr>\n",
       "      <th>education-spending</th>\n",
       "      <td>-0.69</td>\n",
       "      <td>-0.41</td>\n",
       "      <td>-0.02</td>\n",
       "      <td>-0.65</td>\n",
       "      <td>0.69</td>\n",
       "      <td>0.63</td>\n",
       "      <td>0.51</td>\n",
       "      <td>-0.54</td>\n",
       "      <td>-0.62</td>\n",
       "      <td>-0.59</td>\n",
       "      <td>0.04</td>\n",
       "      <td>-0.20</td>\n",
       "      <td>1.00</td>\n",
       "      <td>0.54</td>\n",
       "      <td>0.59</td>\n",
       "      <td>-0.49</td>\n",
       "      <td>-0.25</td>\n",
       "    </tr>\n",
       "    <tr>\n",
       "      <th>superfund-right-to-sue</th>\n",
       "      <td>-0.54</td>\n",
       "      <td>-0.35</td>\n",
       "      <td>0.22</td>\n",
       "      <td>-0.53</td>\n",
       "      <td>0.59</td>\n",
       "      <td>0.65</td>\n",
       "      <td>0.55</td>\n",
       "      <td>-0.57</td>\n",
       "      <td>-0.61</td>\n",
       "      <td>-0.53</td>\n",
       "      <td>0.05</td>\n",
       "      <td>-0.10</td>\n",
       "      <td>0.54</td>\n",
       "      <td>1.00</td>\n",
       "      <td>0.54</td>\n",
       "      <td>-0.49</td>\n",
       "      <td>-0.24</td>\n",
       "    </tr>\n",
       "    <tr>\n",
       "      <th>crime</th>\n",
       "      <td>-0.61</td>\n",
       "      <td>-0.37</td>\n",
       "      <td>-0.02</td>\n",
       "      <td>-0.59</td>\n",
       "      <td>0.65</td>\n",
       "      <td>0.70</td>\n",
       "      <td>0.58</td>\n",
       "      <td>-0.52</td>\n",
       "      <td>-0.62</td>\n",
       "      <td>-0.56</td>\n",
       "      <td>0.12</td>\n",
       "      <td>-0.13</td>\n",
       "      <td>0.59</td>\n",
       "      <td>0.54</td>\n",
       "      <td>1.00</td>\n",
       "      <td>-0.53</td>\n",
       "      <td>-0.20</td>\n",
       "    </tr>\n",
       "    <tr>\n",
       "      <th>duty-free-exports</th>\n",
       "      <td>0.52</td>\n",
       "      <td>0.20</td>\n",
       "      <td>-0.11</td>\n",
       "      <td>0.48</td>\n",
       "      <td>-0.54</td>\n",
       "      <td>-0.56</td>\n",
       "      <td>-0.45</td>\n",
       "      <td>0.48</td>\n",
       "      <td>0.54</td>\n",
       "      <td>0.48</td>\n",
       "      <td>-0.06</td>\n",
       "      <td>0.15</td>\n",
       "      <td>-0.49</td>\n",
       "      <td>-0.49</td>\n",
       "      <td>-0.53</td>\n",
       "      <td>1.00</td>\n",
       "      <td>0.19</td>\n",
       "    </tr>\n",
       "    <tr>\n",
       "      <th>export-administration-act-south-africa</th>\n",
       "      <td>0.22</td>\n",
       "      <td>0.12</td>\n",
       "      <td>-0.09</td>\n",
       "      <td>0.31</td>\n",
       "      <td>-0.27</td>\n",
       "      <td>-0.27</td>\n",
       "      <td>-0.20</td>\n",
       "      <td>0.35</td>\n",
       "      <td>0.32</td>\n",
       "      <td>0.29</td>\n",
       "      <td>0.12</td>\n",
       "      <td>0.04</td>\n",
       "      <td>-0.25</td>\n",
       "      <td>-0.24</td>\n",
       "      <td>-0.20</td>\n",
       "      <td>0.19</td>\n",
       "      <td>1.00</td>\n",
       "    </tr>\n",
       "  </tbody>\n",
       "</table>\n",
       "</div>"
      ],
      "text/plain": [
       "                                        Class Name  handicapped-infants  \\\n",
       "Class Name                                    1.00                 0.41   \n",
       "handicapped-infants                           0.41                 1.00   \n",
       "water-project-cost-sharing                   -0.00                 0.02   \n",
       "adoption-of-the-budget-resolution             0.74                 0.40   \n",
       "physician-fee-freeze                         -0.91                -0.42   \n",
       "el-salvador-aid                              -0.71                -0.37   \n",
       "religious-groups-in-schools                  -0.43                -0.40   \n",
       "anti-satellite-test-ban                       0.51                 0.36   \n",
       "aid-to-nicaraguan-contras                     0.65                 0.40   \n",
       "mx-missile                                    0.62                 0.34   \n",
       "immigration                                  -0.08                -0.09   \n",
       "fuels-corporation-cutback                     0.37                 0.11   \n",
       "education-spending                           -0.69                -0.41   \n",
       "superfund-right-to-sue                       -0.54                -0.35   \n",
       "crime                                        -0.61                -0.37   \n",
       "duty-free-exports                             0.52                 0.20   \n",
       "export-administration-act-south-africa        0.22                 0.12   \n",
       "\n",
       "                                        water-project-cost-sharing  \\\n",
       "Class Name                                                   -0.00   \n",
       "handicapped-infants                                           0.02   \n",
       "water-project-cost-sharing                                    1.00   \n",
       "adoption-of-the-budget-resolution                            -0.05   \n",
       "physician-fee-freeze                                          0.08   \n",
       "el-salvador-aid                                               0.13   \n",
       "religious-groups-in-schools                                   0.15   \n",
       "anti-satellite-test-ban                                      -0.20   \n",
       "aid-to-nicaraguan-contras                                    -0.10   \n",
       "mx-missile                                                   -0.19   \n",
       "immigration                                                  -0.12   \n",
       "fuels-corporation-cutback                                     0.19   \n",
       "education-spending                                           -0.02   \n",
       "superfund-right-to-sue                                        0.22   \n",
       "crime                                                        -0.02   \n",
       "duty-free-exports                                            -0.11   \n",
       "export-administration-act-south-africa                       -0.09   \n",
       "\n",
       "                                        adoption-of-the-budget-resolution  \\\n",
       "Class Name                                                           0.74   \n",
       "handicapped-infants                                                  0.40   \n",
       "water-project-cost-sharing                                          -0.05   \n",
       "adoption-of-the-budget-resolution                                    1.00   \n",
       "physician-fee-freeze                                                -0.73   \n",
       "el-salvador-aid                                                     -0.65   \n",
       "religious-groups-in-schools                                         -0.43   \n",
       "anti-satellite-test-ban                                              0.58   \n",
       "aid-to-nicaraguan-contras                                            0.70   \n",
       "mx-missile                                                           0.60   \n",
       "immigration                                                          0.02   \n",
       "fuels-corporation-cutback                                            0.22   \n",
       "education-spending                                                  -0.65   \n",
       "superfund-right-to-sue                                              -0.53   \n",
       "crime                                                               -0.59   \n",
       "duty-free-exports                                                    0.48   \n",
       "export-administration-act-south-africa                               0.31   \n",
       "\n",
       "                                        physician-fee-freeze  el-salvador-aid  \\\n",
       "Class Name                                             -0.91            -0.71   \n",
       "handicapped-infants                                    -0.42            -0.37   \n",
       "water-project-cost-sharing                              0.08             0.13   \n",
       "adoption-of-the-budget-resolution                      -0.73            -0.65   \n",
       "physician-fee-freeze                                    1.00             0.75   \n",
       "el-salvador-aid                                         0.75             1.00   \n",
       "religious-groups-in-schools                             0.48             0.62   \n",
       "anti-satellite-test-ban                                -0.58            -0.69   \n",
       "aid-to-nicaraguan-contras                              -0.69            -0.83   \n",
       "mx-missile                                             -0.64            -0.78   \n",
       "immigration                                             0.04             0.01   \n",
       "fuels-corporation-cutback                              -0.28            -0.15   \n",
       "education-spending                                      0.69             0.63   \n",
       "superfund-right-to-sue                                  0.59             0.65   \n",
       "crime                                                   0.65             0.70   \n",
       "duty-free-exports                                      -0.54            -0.56   \n",
       "export-administration-act-south-africa                 -0.27            -0.27   \n",
       "\n",
       "                                        religious-groups-in-schools  \\\n",
       "Class Name                                                    -0.43   \n",
       "handicapped-infants                                           -0.40   \n",
       "water-project-cost-sharing                                     0.15   \n",
       "adoption-of-the-budget-resolution                             -0.43   \n",
       "physician-fee-freeze                                           0.48   \n",
       "el-salvador-aid                                                0.62   \n",
       "religious-groups-in-schools                                    1.00   \n",
       "anti-satellite-test-ban                                       -0.54   \n",
       "aid-to-nicaraguan-contras                                     -0.55   \n",
       "mx-missile                                                    -0.57   \n",
       "immigration                                                    0.09   \n",
       "fuels-corporation-cutback                                      0.01   \n",
       "education-spending                                             0.51   \n",
       "superfund-right-to-sue                                         0.55   \n",
       "crime                                                          0.58   \n",
       "duty-free-exports                                             -0.45   \n",
       "export-administration-act-south-africa                        -0.20   \n",
       "\n",
       "                                        anti-satellite-test-ban  \\\n",
       "Class Name                                                 0.51   \n",
       "handicapped-infants                                        0.36   \n",
       "water-project-cost-sharing                                -0.20   \n",
       "adoption-of-the-budget-resolution                          0.58   \n",
       "physician-fee-freeze                                      -0.58   \n",
       "el-salvador-aid                                           -0.69   \n",
       "religious-groups-in-schools                               -0.54   \n",
       "anti-satellite-test-ban                                    1.00   \n",
       "aid-to-nicaraguan-contras                                  0.72   \n",
       "mx-missile                                                 0.66   \n",
       "immigration                                                0.03   \n",
       "fuels-corporation-cutback                                  0.04   \n",
       "education-spending                                        -0.54   \n",
       "superfund-right-to-sue                                    -0.57   \n",
       "crime                                                     -0.52   \n",
       "duty-free-exports                                          0.48   \n",
       "export-administration-act-south-africa                     0.35   \n",
       "\n",
       "                                        aid-to-nicaraguan-contras  mx-missile  \\\n",
       "Class Name                                                   0.65        0.62   \n",
       "handicapped-infants                                          0.40        0.34   \n",
       "water-project-cost-sharing                                  -0.10       -0.19   \n",
       "adoption-of-the-budget-resolution                            0.70        0.60   \n",
       "physician-fee-freeze                                        -0.69       -0.64   \n",
       "el-salvador-aid                                             -0.83       -0.78   \n",
       "religious-groups-in-schools                                 -0.55       -0.57   \n",
       "anti-satellite-test-ban                                      0.72        0.66   \n",
       "aid-to-nicaraguan-contras                                    1.00        0.74   \n",
       "mx-missile                                                   0.74        1.00   \n",
       "immigration                                                  0.03        0.03   \n",
       "fuels-corporation-cutback                                    0.14        0.04   \n",
       "education-spending                                          -0.62       -0.59   \n",
       "superfund-right-to-sue                                      -0.61       -0.53   \n",
       "crime                                                       -0.62       -0.56   \n",
       "duty-free-exports                                            0.54        0.48   \n",
       "export-administration-act-south-africa                       0.32        0.29   \n",
       "\n",
       "                                        immigration  \\\n",
       "Class Name                                    -0.08   \n",
       "handicapped-infants                           -0.09   \n",
       "water-project-cost-sharing                    -0.12   \n",
       "adoption-of-the-budget-resolution              0.02   \n",
       "physician-fee-freeze                           0.04   \n",
       "el-salvador-aid                                0.01   \n",
       "religious-groups-in-schools                    0.09   \n",
       "anti-satellite-test-ban                        0.03   \n",
       "aid-to-nicaraguan-contras                      0.03   \n",
       "mx-missile                                     0.03   \n",
       "immigration                                    1.00   \n",
       "fuels-corporation-cutback                     -0.03   \n",
       "education-spending                             0.04   \n",
       "superfund-right-to-sue                         0.05   \n",
       "crime                                          0.12   \n",
       "duty-free-exports                             -0.06   \n",
       "export-administration-act-south-africa         0.12   \n",
       "\n",
       "                                        fuels-corporation-cutback  \\\n",
       "Class Name                                                   0.37   \n",
       "handicapped-infants                                          0.11   \n",
       "water-project-cost-sharing                                   0.19   \n",
       "adoption-of-the-budget-resolution                            0.22   \n",
       "physician-fee-freeze                                        -0.28   \n",
       "el-salvador-aid                                             -0.15   \n",
       "religious-groups-in-schools                                  0.01   \n",
       "anti-satellite-test-ban                                      0.04   \n",
       "aid-to-nicaraguan-contras                                    0.14   \n",
       "mx-missile                                                   0.04   \n",
       "immigration                                                 -0.03   \n",
       "fuels-corporation-cutback                                    1.00   \n",
       "education-spending                                          -0.20   \n",
       "superfund-right-to-sue                                      -0.10   \n",
       "crime                                                       -0.13   \n",
       "duty-free-exports                                            0.15   \n",
       "export-administration-act-south-africa                       0.04   \n",
       "\n",
       "                                        education-spending  \\\n",
       "Class Name                                           -0.69   \n",
       "handicapped-infants                                  -0.41   \n",
       "water-project-cost-sharing                           -0.02   \n",
       "adoption-of-the-budget-resolution                    -0.65   \n",
       "physician-fee-freeze                                  0.69   \n",
       "el-salvador-aid                                       0.63   \n",
       "religious-groups-in-schools                           0.51   \n",
       "anti-satellite-test-ban                              -0.54   \n",
       "aid-to-nicaraguan-contras                            -0.62   \n",
       "mx-missile                                           -0.59   \n",
       "immigration                                           0.04   \n",
       "fuels-corporation-cutback                            -0.20   \n",
       "education-spending                                    1.00   \n",
       "superfund-right-to-sue                                0.54   \n",
       "crime                                                 0.59   \n",
       "duty-free-exports                                    -0.49   \n",
       "export-administration-act-south-africa               -0.25   \n",
       "\n",
       "                                        superfund-right-to-sue  crime  \\\n",
       "Class Name                                               -0.54  -0.61   \n",
       "handicapped-infants                                      -0.35  -0.37   \n",
       "water-project-cost-sharing                                0.22  -0.02   \n",
       "adoption-of-the-budget-resolution                        -0.53  -0.59   \n",
       "physician-fee-freeze                                      0.59   0.65   \n",
       "el-salvador-aid                                           0.65   0.70   \n",
       "religious-groups-in-schools                               0.55   0.58   \n",
       "anti-satellite-test-ban                                  -0.57  -0.52   \n",
       "aid-to-nicaraguan-contras                                -0.61  -0.62   \n",
       "mx-missile                                               -0.53  -0.56   \n",
       "immigration                                               0.05   0.12   \n",
       "fuels-corporation-cutback                                -0.10  -0.13   \n",
       "education-spending                                        0.54   0.59   \n",
       "superfund-right-to-sue                                    1.00   0.54   \n",
       "crime                                                     0.54   1.00   \n",
       "duty-free-exports                                        -0.49  -0.53   \n",
       "export-administration-act-south-africa                   -0.24  -0.20   \n",
       "\n",
       "                                        duty-free-exports  \\\n",
       "Class Name                                           0.52   \n",
       "handicapped-infants                                  0.20   \n",
       "water-project-cost-sharing                          -0.11   \n",
       "adoption-of-the-budget-resolution                    0.48   \n",
       "physician-fee-freeze                                -0.54   \n",
       "el-salvador-aid                                     -0.56   \n",
       "religious-groups-in-schools                         -0.45   \n",
       "anti-satellite-test-ban                              0.48   \n",
       "aid-to-nicaraguan-contras                            0.54   \n",
       "mx-missile                                           0.48   \n",
       "immigration                                         -0.06   \n",
       "fuels-corporation-cutback                            0.15   \n",
       "education-spending                                  -0.49   \n",
       "superfund-right-to-sue                              -0.49   \n",
       "crime                                               -0.53   \n",
       "duty-free-exports                                    1.00   \n",
       "export-administration-act-south-africa               0.19   \n",
       "\n",
       "                                        export-administration-act-south-africa  \n",
       "Class Name                                                                0.22  \n",
       "handicapped-infants                                                       0.12  \n",
       "water-project-cost-sharing                                               -0.09  \n",
       "adoption-of-the-budget-resolution                                         0.31  \n",
       "physician-fee-freeze                                                     -0.27  \n",
       "el-salvador-aid                                                          -0.27  \n",
       "religious-groups-in-schools                                              -0.20  \n",
       "anti-satellite-test-ban                                                   0.35  \n",
       "aid-to-nicaraguan-contras                                                 0.32  \n",
       "mx-missile                                                                0.29  \n",
       "immigration                                                               0.12  \n",
       "fuels-corporation-cutback                                                 0.04  \n",
       "education-spending                                                       -0.25  \n",
       "superfund-right-to-sue                                                   -0.24  \n",
       "crime                                                                    -0.20  \n",
       "duty-free-exports                                                         0.19  \n",
       "export-administration-act-south-africa                                    1.00  "
      ]
     },
     "execution_count": 17,
     "metadata": {},
     "output_type": "execute_result"
    }
   ],
   "source": [
    "df2.corr().round(2)"
   ]
  },
  {
   "cell_type": "markdown",
   "id": "bf49cf07",
   "metadata": {},
   "source": [
    "#### iii) impute missing values (i.e., for each feature, replace missing values with the most common value for that feature), so that they are no longer missing or unknown: replaced '?' with mode of each column"
   ]
  },
  {
   "cell_type": "code",
   "execution_count": 18,
   "id": "08c0d9e2",
   "metadata": {},
   "outputs": [],
   "source": [
    "df3 = df.copy()\n",
    "for col in df3.columns:\n",
    "    df3[col].replace((\"?\"), df3[col].mode()[0], inplace=True)"
   ]
  },
  {
   "cell_type": "code",
   "execution_count": 19,
   "id": "04ba85c3",
   "metadata": {
    "scrolled": true
   },
   "outputs": [
    {
     "data": {
      "text/html": [
       "<div>\n",
       "<style scoped>\n",
       "    .dataframe tbody tr th:only-of-type {\n",
       "        vertical-align: middle;\n",
       "    }\n",
       "\n",
       "    .dataframe tbody tr th {\n",
       "        vertical-align: top;\n",
       "    }\n",
       "\n",
       "    .dataframe thead th {\n",
       "        text-align: right;\n",
       "    }\n",
       "</style>\n",
       "<table border=\"1\" class=\"dataframe\">\n",
       "  <thead>\n",
       "    <tr style=\"text-align: right;\">\n",
       "      <th></th>\n",
       "      <th>Class Name</th>\n",
       "      <th>handicapped-infants</th>\n",
       "      <th>water-project-cost-sharing</th>\n",
       "      <th>adoption-of-the-budget-resolution</th>\n",
       "      <th>physician-fee-freeze</th>\n",
       "      <th>el-salvador-aid</th>\n",
       "      <th>religious-groups-in-schools</th>\n",
       "      <th>anti-satellite-test-ban</th>\n",
       "      <th>aid-to-nicaraguan-contras</th>\n",
       "      <th>mx-missile</th>\n",
       "      <th>immigration</th>\n",
       "      <th>fuels-corporation-cutback</th>\n",
       "      <th>education-spending</th>\n",
       "      <th>superfund-right-to-sue</th>\n",
       "      <th>crime</th>\n",
       "      <th>duty-free-exports</th>\n",
       "      <th>export-administration-act-south-africa</th>\n",
       "    </tr>\n",
       "  </thead>\n",
       "  <tbody>\n",
       "    <tr>\n",
       "      <th>0</th>\n",
       "      <td>0</td>\n",
       "      <td>-1</td>\n",
       "      <td>1</td>\n",
       "      <td>-1</td>\n",
       "      <td>1</td>\n",
       "      <td>1</td>\n",
       "      <td>1</td>\n",
       "      <td>-1</td>\n",
       "      <td>-1</td>\n",
       "      <td>-1</td>\n",
       "      <td>1</td>\n",
       "      <td>-1</td>\n",
       "      <td>1</td>\n",
       "      <td>1</td>\n",
       "      <td>1</td>\n",
       "      <td>-1</td>\n",
       "      <td>1</td>\n",
       "    </tr>\n",
       "    <tr>\n",
       "      <th>1</th>\n",
       "      <td>0</td>\n",
       "      <td>-1</td>\n",
       "      <td>1</td>\n",
       "      <td>-1</td>\n",
       "      <td>1</td>\n",
       "      <td>1</td>\n",
       "      <td>1</td>\n",
       "      <td>-1</td>\n",
       "      <td>-1</td>\n",
       "      <td>-1</td>\n",
       "      <td>-1</td>\n",
       "      <td>-1</td>\n",
       "      <td>1</td>\n",
       "      <td>1</td>\n",
       "      <td>1</td>\n",
       "      <td>-1</td>\n",
       "      <td>1</td>\n",
       "    </tr>\n",
       "    <tr>\n",
       "      <th>2</th>\n",
       "      <td>1</td>\n",
       "      <td>-1</td>\n",
       "      <td>1</td>\n",
       "      <td>1</td>\n",
       "      <td>-1</td>\n",
       "      <td>1</td>\n",
       "      <td>1</td>\n",
       "      <td>-1</td>\n",
       "      <td>-1</td>\n",
       "      <td>-1</td>\n",
       "      <td>-1</td>\n",
       "      <td>1</td>\n",
       "      <td>-1</td>\n",
       "      <td>1</td>\n",
       "      <td>1</td>\n",
       "      <td>-1</td>\n",
       "      <td>-1</td>\n",
       "    </tr>\n",
       "    <tr>\n",
       "      <th>3</th>\n",
       "      <td>1</td>\n",
       "      <td>-1</td>\n",
       "      <td>1</td>\n",
       "      <td>1</td>\n",
       "      <td>-1</td>\n",
       "      <td>1</td>\n",
       "      <td>1</td>\n",
       "      <td>-1</td>\n",
       "      <td>-1</td>\n",
       "      <td>-1</td>\n",
       "      <td>-1</td>\n",
       "      <td>1</td>\n",
       "      <td>-1</td>\n",
       "      <td>1</td>\n",
       "      <td>-1</td>\n",
       "      <td>-1</td>\n",
       "      <td>1</td>\n",
       "    </tr>\n",
       "    <tr>\n",
       "      <th>4</th>\n",
       "      <td>1</td>\n",
       "      <td>1</td>\n",
       "      <td>1</td>\n",
       "      <td>1</td>\n",
       "      <td>-1</td>\n",
       "      <td>1</td>\n",
       "      <td>1</td>\n",
       "      <td>-1</td>\n",
       "      <td>-1</td>\n",
       "      <td>-1</td>\n",
       "      <td>-1</td>\n",
       "      <td>1</td>\n",
       "      <td>-1</td>\n",
       "      <td>1</td>\n",
       "      <td>1</td>\n",
       "      <td>1</td>\n",
       "      <td>1</td>\n",
       "    </tr>\n",
       "  </tbody>\n",
       "</table>\n",
       "</div>"
      ],
      "text/plain": [
       "   Class Name  handicapped-infants  water-project-cost-sharing  \\\n",
       "0           0                   -1                           1   \n",
       "1           0                   -1                           1   \n",
       "2           1                   -1                           1   \n",
       "3           1                   -1                           1   \n",
       "4           1                    1                           1   \n",
       "\n",
       "   adoption-of-the-budget-resolution  physician-fee-freeze  el-salvador-aid  \\\n",
       "0                                 -1                     1                1   \n",
       "1                                 -1                     1                1   \n",
       "2                                  1                    -1                1   \n",
       "3                                  1                    -1                1   \n",
       "4                                  1                    -1                1   \n",
       "\n",
       "   religious-groups-in-schools  anti-satellite-test-ban  \\\n",
       "0                            1                       -1   \n",
       "1                            1                       -1   \n",
       "2                            1                       -1   \n",
       "3                            1                       -1   \n",
       "4                            1                       -1   \n",
       "\n",
       "   aid-to-nicaraguan-contras  mx-missile  immigration  \\\n",
       "0                         -1          -1            1   \n",
       "1                         -1          -1           -1   \n",
       "2                         -1          -1           -1   \n",
       "3                         -1          -1           -1   \n",
       "4                         -1          -1           -1   \n",
       "\n",
       "   fuels-corporation-cutback  education-spending  superfund-right-to-sue  \\\n",
       "0                         -1                   1                       1   \n",
       "1                         -1                   1                       1   \n",
       "2                          1                  -1                       1   \n",
       "3                          1                  -1                       1   \n",
       "4                          1                  -1                       1   \n",
       "\n",
       "   crime  duty-free-exports  export-administration-act-south-africa  \n",
       "0      1                 -1                                       1  \n",
       "1      1                 -1                                       1  \n",
       "2      1                 -1                                      -1  \n",
       "3     -1                 -1                                       1  \n",
       "4      1                  1                                       1  "
      ]
     },
     "execution_count": 19,
     "metadata": {},
     "output_type": "execute_result"
    }
   ],
   "source": [
    "df3.head()"
   ]
  },
  {
   "cell_type": "code",
   "execution_count": 20,
   "id": "46e2dd1d",
   "metadata": {},
   "outputs": [
    {
     "data": {
      "text/plain": [
       "(435, 17)"
      ]
     },
     "execution_count": 20,
     "metadata": {},
     "output_type": "execute_result"
    }
   ],
   "source": [
    "df3.shape"
   ]
  },
  {
   "cell_type": "markdown",
   "id": "bf2f0730",
   "metadata": {},
   "source": [
    "## DecisionTree Classifier"
   ]
  },
  {
   "cell_type": "markdown",
   "id": "f3da51f6",
   "metadata": {},
   "source": [
    "Implement a decision tree classifier for classification, with each of the above three ways of dealing with missing values  \n",
    "### i"
   ]
  },
  {
   "cell_type": "code",
   "execution_count": 21,
   "id": "fb4aba45",
   "metadata": {},
   "outputs": [
    {
     "name": "stdout",
     "output_type": "stream",
     "text": [
      "DecisionTreeClassifier(criterion='entropy')\n",
      "DecisionTreeClassifier()\n"
     ]
    }
   ],
   "source": [
    "X = df1.drop(['Class Name'], axis=1)\n",
    "y = df1['Class Name']\n",
    "tree_one_enp = tree.DecisionTreeClassifier(criterion='entropy')\n",
    "tree_one_gini = tree.DecisionTreeClassifier(criterion='gini')\n",
    "\n",
    "print(tree_one_enp)\n",
    "print(tree_one_gini)"
   ]
  },
  {
   "cell_type": "code",
   "execution_count": 22,
   "id": "05130186",
   "metadata": {},
   "outputs": [
    {
     "data": {
      "text/plain": [
       "DecisionTreeClassifier()"
      ]
     },
     "execution_count": 22,
     "metadata": {},
     "output_type": "execute_result"
    }
   ],
   "source": [
    "tree_one_enp.fit(X, y)\n",
    "tree_one_gini.fit(X, y)"
   ]
  },
  {
   "cell_type": "code",
   "execution_count": 23,
   "id": "520f9366",
   "metadata": {
    "scrolled": true
   },
   "outputs": [
    {
     "name": "stdout",
     "output_type": "stream",
     "text": [
      "[0 1]\n",
      "[0 1]\n",
      "430    0\n",
      "431    1\n",
      "Name: Class Name, dtype: int64\n"
     ]
    }
   ],
   "source": [
    "#predict\n",
    "y_pred_enp = tree_one_enp.predict(X)\n",
    "y_pred_gini = tree_one_gini.predict(X)\n",
    "print(tree_one_enp.predict(X[-2:]))\n",
    "print(tree_one_gini.predict(X[-2:]))\n",
    "print(y[-2:])"
   ]
  },
  {
   "cell_type": "markdown",
   "id": "a55f83d0",
   "metadata": {},
   "source": [
    "#### performing 5-fold cross validation and report precision, recall, and F1-scores for the first scenario"
   ]
  },
  {
   "cell_type": "code",
   "execution_count": 24,
   "id": "6e2690ca",
   "metadata": {
    "scrolled": false
   },
   "outputs": [
    {
     "name": "stdout",
     "output_type": "stream",
     "text": [
      "TRAIN: [47 48 49 50 51] TEST: [0 1 2 3 4]\n",
      "precision=0.9608510638297871\n",
      "recall=   0.9574468085106383\n",
      "f1=       0.95740826395313\n",
      "\n",
      "TRAIN: [0 1 2 3 4] TEST: [47 48 49 50 51]\n",
      "precision=0.961499493414387\n",
      "recall=   0.9574468085106383\n",
      "f1=       0.9577226162332546\n",
      "\n",
      "TRAIN: [0 1 2 3 4] TEST: [94 95 96 97 98]\n",
      "precision=0.9790104947526237\n",
      "recall=   0.9782608695652174\n",
      "f1=       0.978141004685627\n",
      "\n",
      "TRAIN: [0 1 2 3 4] TEST: [140 141 142 143 144]\n",
      "precision=0.9359834368530021\n",
      "recall=   0.9347826086956522\n",
      "f1=       0.9349385565466907\n",
      "\n",
      "TRAIN: [0 1 2 3 4] TEST: [186 187 188 189 190]\n",
      "precision=0.8922495274102079\n",
      "recall=   0.8913043478260869\n",
      "f1=       0.8913557405694317\n",
      "\n"
     ]
    }
   ],
   "source": [
    "# k-fold on entropy crietrion\n",
    "kf = model_selection.KFold(n_splits=5, shuffle=False)\n",
    "for train_index, test_index in kf.split(df1):\n",
    "    print(\"TRAIN:\", train_index[:5], \"TEST:\", test_index[:5])\n",
    "    X_train, X_test = X.iloc[train_index], X.iloc[test_index]\n",
    "    y_train, y_test = y.iloc[train_index], y.iloc[test_index]\n",
    "    tree_one_enp.fit(X_train, y_train)\n",
    "    y_pred = tree_one_enp.predict(X_test)\n",
    "    print(\"precision={}\".format(metrics.precision_score(y_test, y_pred, average=\"weighted\")))\n",
    "    print(\"recall=   {}\".format(metrics.recall_score(y_test, y_pred, average=\"weighted\")))\n",
    "    print(\"f1=       {}\".format(metrics.f1_score(y_test, y_pred, average=\"weighted\")))\n",
    "    \n",
    "    print()"
   ]
  },
  {
   "cell_type": "code",
   "execution_count": 25,
   "id": "7ee3a0af",
   "metadata": {},
   "outputs": [
    {
     "data": {
      "text/plain": [
       "{'fit_time': array([0.00177121, 0.00195217, 0.0015831 , 0.00124574, 0.00110793]),\n",
       " 'score_time': array([0.00277996, 0.002913  , 0.00262189, 0.00192308, 0.00202608]),\n",
       " 'test_precision_weighted': array([0.96099291, 1.        , 0.97909699, 0.93536789, 0.89224953]),\n",
       " 'test_recall_weighted': array([0.95744681, 1.        , 0.97826087, 0.93478261, 0.89130435]),\n",
       " 'test_f1_weighted': array([0.95748535, 1.        , 0.97820889, 0.93462666, 0.89135574])}"
      ]
     },
     "execution_count": 25,
     "metadata": {},
     "output_type": "execute_result"
    }
   ],
   "source": [
    "tree_one_enp_scores = model_selection.cross_validate(tree_one_enp, X, y, cv=5, \n",
    "                                        scoring=[\"precision_weighted\", \"recall_weighted\", \"f1_weighted\"])\n",
    "tree_one_enp_scores"
   ]
  },
  {
   "cell_type": "code",
   "execution_count": 26,
   "id": "6870b369",
   "metadata": {
    "scrolled": false
   },
   "outputs": [
    {
     "name": "stdout",
     "output_type": "stream",
     "text": [
      "{'fit_time': 'mean= 0.002, std = 0.0003'}\n",
      "{'score_time': 'mean= 0.002, std = 0.0004'}\n",
      "{'test_precision_weighted': 'mean= 0.954, std = 0.0373'}\n",
      "{'test_recall_weighted': 'mean= 0.952, std = 0.0374'}\n",
      "{'test_f1_weighted': 'mean= 0.952, std = 0.0374'}\n"
     ]
    }
   ],
   "source": [
    "for i in tree_one_enp_scores:\n",
    "    tree_one_enp_scores_ms = {\n",
    "        i : (f'mean= {np.mean(tree_one_enp_scores[i]).round(3)}, std = {np.std(tree_one_enp_scores[i]).round(4)}')\n",
    "    }\n",
    "    print(tree_one_enp_scores_ms)\n",
    "    "
   ]
  },
  {
   "cell_type": "code",
   "execution_count": 27,
   "id": "08ca6bbf",
   "metadata": {},
   "outputs": [
    {
     "name": "stdout",
     "output_type": "stream",
     "text": [
      "TRAIN: [47 48 49 50 51] TEST: [0 1 2 3 4]\n",
      "precision=0.9608510638297871\n",
      "recall=   0.9574468085106383\n",
      "f1=       0.95740826395313\n",
      "\n",
      "TRAIN: [0 1 2 3 4] TEST: [47 48 49 50 51]\n",
      "precision=1.0\n",
      "recall=   1.0\n",
      "f1=       1.0\n",
      "\n",
      "TRAIN: [0 1 2 3 4] TEST: [94 95 96 97 98]\n",
      "precision=0.9790104947526237\n",
      "recall=   0.9782608695652174\n",
      "f1=       0.978141004685627\n",
      "\n",
      "TRAIN: [0 1 2 3 4] TEST: [140 141 142 143 144]\n",
      "precision=0.9604743083003953\n",
      "recall=   0.9565217391304348\n",
      "f1=       0.956687370600414\n",
      "\n",
      "TRAIN: [0 1 2 3 4] TEST: [186 187 188 189 190]\n",
      "precision=0.8922495274102079\n",
      "recall=   0.8913043478260869\n",
      "f1=       0.8913557405694317\n",
      "\n"
     ]
    }
   ],
   "source": [
    "# k-fold on gini crietrion\n",
    "kf = model_selection.KFold(n_splits=5, shuffle=False)\n",
    "for train_index, test_index in kf.split(df1):\n",
    "    print(\"TRAIN:\", train_index[:5], \"TEST:\", test_index[:5])\n",
    "    X_train, X_test = X.iloc[train_index], X.iloc[test_index]\n",
    "    y_train, y_test = y.iloc[train_index], y.iloc[test_index]\n",
    "    tree_one_gini.fit(X_train, y_train)\n",
    "    y_pred = tree_one_gini.predict(X_test)\n",
    "    print(\"precision={}\".format(metrics.precision_score(y_test, y_pred, average=\"weighted\")))\n",
    "    print(\"recall=   {}\".format(metrics.recall_score(y_test, y_pred, average=\"weighted\")))\n",
    "    print(\"f1=       {}\".format(metrics.f1_score(y_test, y_pred, average=\"weighted\")))\n",
    "    \n",
    "    print()"
   ]
  },
  {
   "cell_type": "code",
   "execution_count": 28,
   "id": "b944963b",
   "metadata": {
    "scrolled": true
   },
   "outputs": [
    {
     "data": {
      "text/plain": [
       "{'fit_time': array([0.00272107, 0.00142622, 0.00146818, 0.00122499, 0.00186181]),\n",
       " 'score_time': array([0.00270796, 0.00233698, 0.00225687, 0.00195503, 0.00288296]),\n",
       " 'test_precision_weighted': array([0.96099291, 1.        , 0.97909699, 0.93536789, 0.89224953]),\n",
       " 'test_recall_weighted': array([0.95744681, 1.        , 0.97826087, 0.93478261, 0.89130435]),\n",
       " 'test_f1_weighted': array([0.95748535, 1.        , 0.97820889, 0.93462666, 0.89135574])}"
      ]
     },
     "execution_count": 28,
     "metadata": {},
     "output_type": "execute_result"
    }
   ],
   "source": [
    "tree_one_gini_scores = model_selection.cross_validate(tree_one_gini, X, y, cv=5, \n",
    "                                        scoring=[\"precision_weighted\", \"recall_weighted\", \"f1_weighted\"])\n",
    "tree_one_gini_scores"
   ]
  },
  {
   "cell_type": "code",
   "execution_count": 29,
   "id": "9bdc352b",
   "metadata": {
    "scrolled": false
   },
   "outputs": [
    {
     "name": "stdout",
     "output_type": "stream",
     "text": [
      "{'fit_time': 'mean= 0.002, std = 0.0005'}\n",
      "{'score_time': 'mean= 0.002, std = 0.0003'}\n",
      "{'test_precision_weighted': 'mean= 0.954, std = 0.0373'}\n",
      "{'test_recall_weighted': 'mean= 0.952, std = 0.0374'}\n",
      "{'test_f1_weighted': 'mean= 0.952, std = 0.0374'}\n"
     ]
    }
   ],
   "source": [
    "for i in tree_one_gini_scores:\n",
    "    tree_one_gini_scores_ms = {\n",
    "        i : (f'mean= {np.mean(tree_one_gini_scores[i]).round(3)}, std = {np.std(tree_one_gini_scores[i]).round(4)}')\n",
    "    }\n",
    "    print(tree_one_gini_scores_ms)"
   ]
  },
  {
   "cell_type": "markdown",
   "id": "9ede7ddd",
   "metadata": {},
   "source": [
    "It is noticed that the accuracy scores with both gini and entropy as our criterions are the same on this model"
   ]
  },
  {
   "cell_type": "markdown",
   "id": "ea45a23a",
   "metadata": {},
   "source": [
    "## Naïve Bayes Classifier"
   ]
  },
  {
   "cell_type": "markdown",
   "id": "29400e0e",
   "metadata": {},
   "source": [
    "Implement a decision Naïve Bayes classifier for classification, with each of the above three ways of dealing with missing values  \n",
    "### i"
   ]
  },
  {
   "cell_type": "code",
   "execution_count": 30,
   "id": "455b8051",
   "metadata": {},
   "outputs": [],
   "source": [
    "bayes_one_bernoulli = naive_bayes.BernoulliNB()"
   ]
  },
  {
   "cell_type": "code",
   "execution_count": 31,
   "id": "94140c4e",
   "metadata": {},
   "outputs": [
    {
     "data": {
      "text/plain": [
       "BernoulliNB()"
      ]
     },
     "execution_count": 31,
     "metadata": {},
     "output_type": "execute_result"
    }
   ],
   "source": [
    "bayes_one_bernoulli.fit(X, y)"
   ]
  },
  {
   "cell_type": "code",
   "execution_count": 32,
   "id": "aee1eba3",
   "metadata": {},
   "outputs": [],
   "source": [
    "# print(\"predicted:\", bayes_one_bernoulli.predict(X[-2:]))\n",
    "# print(\"truth\", y[-2:])"
   ]
  },
  {
   "cell_type": "code",
   "execution_count": 33,
   "id": "a6799e6d",
   "metadata": {},
   "outputs": [
    {
     "name": "stdout",
     "output_type": "stream",
     "text": [
      "TRAIN: [47 48 49 50 51] TEST: [0 1 2 3 4]\n",
      "precision=0.9003974748655599\n",
      "recall=   0.8936170212765957\n",
      "f1=       0.8933275437834709\n",
      "\n",
      "TRAIN: [0 1 2 3 4] TEST: [47 48 49 50 51]\n",
      "precision=0.8350089626685371\n",
      "recall=   0.8297872340425532\n",
      "f1=       0.8308904649330181\n",
      "\n",
      "TRAIN: [0 1 2 3 4] TEST: [94 95 96 97 98]\n",
      "precision=0.9790104947526237\n",
      "recall=   0.9782608695652174\n",
      "f1=       0.978141004685627\n",
      "\n",
      "TRAIN: [0 1 2 3 4] TEST: [140 141 142 143 144]\n",
      "precision=1.0\n",
      "recall=   1.0\n",
      "f1=       1.0\n",
      "\n",
      "TRAIN: [0 1 2 3 4] TEST: [186 187 188 189 190]\n",
      "precision=0.8819397993311037\n",
      "recall=   0.8695652173913043\n",
      "f1=       0.8690711462450593\n",
      "\n"
     ]
    }
   ],
   "source": [
    "kf = model_selection.KFold(n_splits=5, shuffle=False)\n",
    "for train_index, test_index in kf.split(df1):\n",
    "    print(\"TRAIN:\", train_index[:5], \"TEST:\", test_index[:5])\n",
    "    X_train, X_test = X.iloc[train_index], X.iloc[test_index]\n",
    "    y_train, y_test = y.iloc[train_index], y.iloc[test_index]\n",
    "    bayes_one_bernoulli.fit(X_train, y_train)\n",
    "    y_pred = bayes_one_bernoulli.predict(X_test)\n",
    "    print(\"precision={}\".format(metrics.precision_score(y_test, y_pred, average=\"weighted\")))\n",
    "    print(\"recall=   {}\".format(metrics.recall_score(y_test, y_pred, average=\"weighted\")))\n",
    "    print(\"f1=       {}\".format(metrics.f1_score(y_test, y_pred, average=\"weighted\")))\n",
    "    \n",
    "    print()"
   ]
  },
  {
   "cell_type": "code",
   "execution_count": 34,
   "id": "af9d7e7f",
   "metadata": {},
   "outputs": [
    {
     "data": {
      "text/plain": [
       "{'fit_time': array([0.00266814, 0.00235081, 0.0016799 , 0.00132513, 0.00144601]),\n",
       " 'score_time': array([0.00362802, 0.00224924, 0.00208306, 0.0019691 , 0.00181389]),\n",
       " 'test_precision_weighted': array([0.90092843, 0.83310207, 0.97909699, 1.        , 0.8819398 ]),\n",
       " 'test_recall_weighted': array([0.89361702, 0.82978723, 0.97826087, 1.        , 0.86956522]),\n",
       " 'test_f1_weighted': array([0.89361702, 0.82994141, 0.97820889, 1.        , 0.86907115])}"
      ]
     },
     "execution_count": 34,
     "metadata": {},
     "output_type": "execute_result"
    }
   ],
   "source": [
    "bayes_one_bernoulli_scores = model_selection.cross_validate(bayes_one_bernoulli, X, y, cv=5, \n",
    "                                        scoring=[\"precision_weighted\", \"recall_weighted\", \"f1_weighted\"])\n",
    "bayes_one_bernoulli_scores"
   ]
  },
  {
   "cell_type": "code",
   "execution_count": 35,
   "id": "e7f462b6",
   "metadata": {},
   "outputs": [
    {
     "name": "stdout",
     "output_type": "stream",
     "text": [
      "{'fit_time': 'mean= 0.002, std = 0.0005'}\n",
      "{'score_time': 'mean= 0.002, std = 0.0007'}\n",
      "{'test_precision_weighted': 'mean= 0.919, std = 0.0621'}\n",
      "{'test_recall_weighted': 'mean= 0.914, std = 0.0648'}\n",
      "{'test_f1_weighted': 'mean= 0.914, std = 0.0648'}\n"
     ]
    }
   ],
   "source": [
    "for i in bayes_one_bernoulli_scores:\n",
    "    bayes_one_bernoulli_scores_ms = {\n",
    "        i : (f'mean= {np.mean(bayes_one_bernoulli_scores[i]).round(3)}, std = {np.std(bayes_one_bernoulli_scores[i]).round(4)}')\n",
    "    }\n",
    "    print(bayes_one_bernoulli_scores_ms)"
   ]
  },
  {
   "cell_type": "code",
   "execution_count": 36,
   "id": "5bf73176",
   "metadata": {},
   "outputs": [],
   "source": [
    "bayes_one_gaussian = naive_bayes.GaussianNB()"
   ]
  },
  {
   "cell_type": "code",
   "execution_count": 37,
   "id": "84f4e1f7",
   "metadata": {},
   "outputs": [
    {
     "data": {
      "text/plain": [
       "GaussianNB()"
      ]
     },
     "execution_count": 37,
     "metadata": {},
     "output_type": "execute_result"
    }
   ],
   "source": [
    "bayes_one_gaussian.fit(X, y)"
   ]
  },
  {
   "cell_type": "code",
   "execution_count": 38,
   "id": "250300a7",
   "metadata": {},
   "outputs": [
    {
     "name": "stdout",
     "output_type": "stream",
     "text": [
      "predicted: [0 1]\n",
      "truth 430    0\n",
      "431    1\n",
      "Name: Class Name, dtype: int64\n"
     ]
    }
   ],
   "source": [
    "print(\"predicted:\", bayes_one_gaussian.predict(X[-2:]))\n",
    "print(\"truth\", y[-2:])"
   ]
  },
  {
   "cell_type": "code",
   "execution_count": 39,
   "id": "d958c26e",
   "metadata": {},
   "outputs": [
    {
     "name": "stdout",
     "output_type": "stream",
     "text": [
      "TRAIN: [47 48 49 50 51] TEST: [0 1 2 3 4]\n",
      "precision=0.937018193031144\n",
      "recall=   0.9361702127659575\n",
      "f1=       0.9361702127659575\n",
      "\n",
      "TRAIN: [0 1 2 3 4] TEST: [47 48 49 50 51]\n",
      "precision=0.942347288949897\n",
      "recall=   0.9361702127659575\n",
      "f1=       0.9350574416567924\n",
      "\n",
      "TRAIN: [0 1 2 3 4] TEST: [94 95 96 97 98]\n",
      "precision=0.9790104947526237\n",
      "recall=   0.9782608695652174\n",
      "f1=       0.978141004685627\n",
      "\n",
      "TRAIN: [0 1 2 3 4] TEST: [140 141 142 143 144]\n",
      "precision=1.0\n",
      "recall=   1.0\n",
      "f1=       1.0\n",
      "\n",
      "TRAIN: [0 1 2 3 4] TEST: [186 187 188 189 190]\n",
      "precision=0.916501976284585\n",
      "recall=   0.9130434782608695\n",
      "f1=       0.9130434782608695\n",
      "\n"
     ]
    }
   ],
   "source": [
    "kf = model_selection.KFold(n_splits=5, shuffle=False)\n",
    "for train_index, test_index in kf.split(df1):\n",
    "    print(\"TRAIN:\", train_index[:5], \"TEST:\", test_index[:5])\n",
    "    X_train, X_test = X.iloc[train_index], X.iloc[test_index]\n",
    "    y_train, y_test = y.iloc[train_index], y.iloc[test_index]\n",
    "    bayes_one_gaussian.fit(X_train, y_train)\n",
    "    y_pred = bayes_one_gaussian.predict(X_test)\n",
    "    print(\"precision={}\".format(metrics.precision_score(y_test, y_pred, average=\"weighted\")))\n",
    "    print(\"recall=   {}\".format(metrics.recall_score(y_test, y_pred, average=\"weighted\")))\n",
    "    print(\"f1=       {}\".format(metrics.f1_score(y_test, y_pred, average=\"weighted\")))\n",
    "    \n",
    "    print()"
   ]
  },
  {
   "cell_type": "code",
   "execution_count": 40,
   "id": "ec8a013a",
   "metadata": {},
   "outputs": [
    {
     "data": {
      "text/plain": [
       "{'fit_time': array([0.00256205, 0.00190902, 0.00236201, 0.00152802, 0.00124884]),\n",
       " 'score_time': array([0.00243783, 0.00261712, 0.00241113, 0.00191212, 0.00209093]),\n",
       " 'test_precision_weighted': array([0.93713383, 0.94300912, 0.97909699, 1.        , 0.91650198]),\n",
       " 'test_recall_weighted': array([0.93617021, 0.93617021, 0.97826087, 1.        , 0.91304348]),\n",
       " 'test_f1_weighted': array([0.93622811, 0.93564148, 0.97820889, 1.        , 0.91304348])}"
      ]
     },
     "execution_count": 40,
     "metadata": {},
     "output_type": "execute_result"
    }
   ],
   "source": [
    "bayes_one_gaussian_scores = model_selection.cross_validate(bayes_one_gaussian, X, y, cv=5, \n",
    "                                        scoring=[\"precision_weighted\", \"recall_weighted\", \"f1_weighted\"])\n",
    "bayes_one_gaussian_scores"
   ]
  },
  {
   "cell_type": "code",
   "execution_count": 41,
   "id": "9ec5c9a4",
   "metadata": {},
   "outputs": [
    {
     "name": "stdout",
     "output_type": "stream",
     "text": [
      "{'fit_time': 'mean= 0.002, std = 0.0005'}\n",
      "{'score_time': 'mean= 0.002, std = 0.0003'}\n",
      "{'test_precision_weighted': 'mean= 0.955, std = 0.0302'}\n",
      "{'test_recall_weighted': 'mean= 0.953, std = 0.0317'}\n",
      "{'test_f1_weighted': 'mean= 0.953, std = 0.0317'}\n"
     ]
    }
   ],
   "source": [
    "for i in bayes_one_gaussian_scores:\n",
    "    bayes_one_gaussian_scores_ms = {\n",
    "        i : (f'mean= {np.mean(bayes_one_gaussian_scores[i]).round(3)}, std = {np.std(bayes_one_gaussian_scores[i]).round(4)}')\n",
    "    }\n",
    "    print(bayes_one_gaussian_scores_ms)"
   ]
  },
  {
   "cell_type": "markdown",
   "id": "4ac16bc2",
   "metadata": {},
   "source": [
    "## DecisionTree Classifier\n",
    "\n",
    "### ii"
   ]
  },
  {
   "cell_type": "code",
   "execution_count": 42,
   "id": "42258531",
   "metadata": {},
   "outputs": [
    {
     "name": "stdout",
     "output_type": "stream",
     "text": [
      "DecisionTreeClassifier(criterion='entropy')\n",
      "DecisionTreeClassifier()\n"
     ]
    }
   ],
   "source": [
    "X = df2.drop(['Class Name'], axis=1)\n",
    "y = df2['Class Name']\n",
    "tree_two_enp = tree.DecisionTreeClassifier(criterion='entropy')\n",
    "tree_two_gini = tree.DecisionTreeClassifier(criterion='gini')\n",
    "\n",
    "print(tree_two_enp)\n",
    "print(tree_two_gini)"
   ]
  },
  {
   "cell_type": "code",
   "execution_count": 43,
   "id": "0cd735bc",
   "metadata": {},
   "outputs": [
    {
     "data": {
      "text/plain": [
       "DecisionTreeClassifier()"
      ]
     },
     "execution_count": 43,
     "metadata": {},
     "output_type": "execute_result"
    }
   ],
   "source": [
    "tree_two_enp.fit(X, y)\n",
    "tree_two_gini.fit(X, y)"
   ]
  },
  {
   "cell_type": "code",
   "execution_count": 44,
   "id": "7f356c57",
   "metadata": {},
   "outputs": [],
   "source": [
    "# predict\n",
    "y_pred_enp = tree_two_enp.predict(X)\n",
    "y_pred_gini = tree_two_gini.predict(X)"
   ]
  },
  {
   "cell_type": "code",
   "execution_count": 45,
   "id": "211a3f27",
   "metadata": {},
   "outputs": [
    {
     "name": "stdout",
     "output_type": "stream",
     "text": [
      "[0 0]\n",
      "[0 0]\n",
      "0    0\n",
      "1    0\n",
      "Name: Class Name, dtype: int64\n"
     ]
    }
   ],
   "source": [
    "print(tree_two_enp.predict(X[:2]))\n",
    "print(tree_two_gini.predict(X[:2]))\n",
    "print(y[:2])"
   ]
  },
  {
   "cell_type": "markdown",
   "id": "91958b00",
   "metadata": {},
   "source": [
    "#### performing 5-fold cross validation and report precision, recall, and F1-scores for the second scenario"
   ]
  },
  {
   "cell_type": "code",
   "execution_count": 46,
   "id": "62fdeeb2",
   "metadata": {},
   "outputs": [
    {
     "name": "stdout",
     "output_type": "stream",
     "text": [
      "TRAIN: [87 88 89 90 91] TEST: [0 1 2 3 4]\n",
      "precision=0.9656129205097784\n",
      "recall=   0.9655172413793104\n",
      "f1=       0.965431569929321\n",
      "\n",
      "TRAIN: [0 1 2 3 4] TEST: [87 88 89 90 91]\n",
      "precision=0.9413793103448277\n",
      "recall=   0.9310344827586207\n",
      "f1=       0.9317614165890029\n",
      "\n",
      "TRAIN: [0 1 2 3 4] TEST: [174 175 176 177 178]\n",
      "precision=0.9770114942528736\n",
      "recall=   0.9770114942528736\n",
      "f1=       0.9770114942528736\n",
      "\n",
      "TRAIN: [0 1 2 3 4] TEST: [261 262 263 264 265]\n",
      "precision=0.9335349868925186\n",
      "recall=   0.9310344827586207\n",
      "f1=       0.9301332288401254\n",
      "\n",
      "TRAIN: [0 1 2 3 4] TEST: [348 349 350 351 352]\n",
      "precision=0.9080459770114943\n",
      "recall=   0.9080459770114943\n",
      "f1=       0.9080459770114943\n",
      "\n"
     ]
    }
   ],
   "source": [
    "# k-fold on entropy crietrion\n",
    "kf = model_selection.KFold(n_splits=5, shuffle=False)\n",
    "for train_index, test_index in kf.split(df2):\n",
    "    print(\"TRAIN:\", train_index[:5], \"TEST:\", test_index[:5])\n",
    "    X_train, X_test = X.iloc[train_index], X.iloc[test_index]\n",
    "    y_train, y_test = y.iloc[train_index], y.iloc[test_index]\n",
    "    tree_two_enp.fit(X_train, y_train)\n",
    "    y_pred = tree_two_enp.predict(X_test)\n",
    "    print(\"precision={}\".format(metrics.precision_score(y_test, y_pred, average=\"weighted\")))\n",
    "    print(\"recall=   {}\".format(metrics.recall_score(y_test, y_pred, average=\"weighted\")))\n",
    "    print(\"f1=       {}\".format(metrics.f1_score(y_test, y_pred, average=\"weighted\")))\n",
    "    \n",
    "    print()"
   ]
  },
  {
   "cell_type": "code",
   "execution_count": 47,
   "id": "e728fb7c",
   "metadata": {},
   "outputs": [
    {
     "data": {
      "text/plain": [
       "{'fit_time': array([0.00194097, 0.00126219, 0.00153923, 0.00141168, 0.0010922 ]),\n",
       " 'score_time': array([0.00237489, 0.00244403, 0.0023489 , 0.00185537, 0.00178719]),\n",
       " 'test_precision_weighted': array([0.96559464, 0.94137931, 0.96559464, 0.90804598, 0.93103448]),\n",
       " 'test_recall_weighted': array([0.96551724, 0.93103448, 0.96551724, 0.90804598, 0.93103448]),\n",
       " 'test_f1_weighted': array([0.96542104, 0.93176142, 0.96542104, 0.90804598, 0.93103448])}"
      ]
     },
     "execution_count": 47,
     "metadata": {},
     "output_type": "execute_result"
    }
   ],
   "source": [
    "tree_two_enp_scores = model_selection.cross_validate(tree_two_enp, X, y, cv=5, \n",
    "                                        scoring=[\"precision_weighted\", \"recall_weighted\", \"f1_weighted\"])\n",
    "tree_two_enp_scores"
   ]
  },
  {
   "cell_type": "code",
   "execution_count": 48,
   "id": "b9239a4a",
   "metadata": {},
   "outputs": [
    {
     "name": "stdout",
     "output_type": "stream",
     "text": [
      "{'fit_time': 'mean= 0.001, std = 0.0003'}\n",
      "{'score_time': 'mean= 0.002, std = 0.0003'}\n",
      "{'test_precision_weighted': 'mean= 0.942, std = 0.0218'}\n",
      "{'test_recall_weighted': 'mean= 0.94, std = 0.0223'}\n",
      "{'test_f1_weighted': 'mean= 0.94, std = 0.0222'}\n"
     ]
    }
   ],
   "source": [
    "for i in tree_two_enp_scores:\n",
    "    tree_two_enp_scores_ms = {\n",
    "        i : (f'mean= {np.mean(tree_two_enp_scores[i]).round(3)}, std = {np.std(tree_two_enp_scores[i]).round(4)}')\n",
    "    }\n",
    "    print(tree_two_enp_scores_ms)"
   ]
  },
  {
   "cell_type": "code",
   "execution_count": 49,
   "id": "37cc56ee",
   "metadata": {},
   "outputs": [
    {
     "name": "stdout",
     "output_type": "stream",
     "text": [
      "TRAIN: [87 88 89 90 91] TEST: [0 1 2 3 4]\n",
      "precision=0.9540229885057471\n",
      "recall=   0.9540229885057471\n",
      "f1=       0.9540229885057471\n",
      "\n",
      "TRAIN: [0 1 2 3 4] TEST: [87 88 89 90 91]\n",
      "precision=0.9498968464485705\n",
      "recall=   0.9425287356321839\n",
      "f1=       0.9430743735686747\n",
      "\n",
      "TRAIN: [0 1 2 3 4] TEST: [174 175 176 177 178]\n",
      "precision=0.9770114942528736\n",
      "recall=   0.9770114942528736\n",
      "f1=       0.9770114942528736\n",
      "\n",
      "TRAIN: [0 1 2 3 4] TEST: [261 262 263 264 265]\n",
      "precision=0.9335349868925186\n",
      "recall=   0.9310344827586207\n",
      "f1=       0.9301332288401254\n",
      "\n",
      "TRAIN: [0 1 2 3 4] TEST: [348 349 350 351 352]\n",
      "precision=0.9361457831771548\n",
      "recall=   0.9310344827586207\n",
      "f1=       0.9315979265269326\n",
      "\n"
     ]
    }
   ],
   "source": [
    "# k-fold on gini crietrion\n",
    "kf = model_selection.KFold(n_splits=5, shuffle=False)\n",
    "for train_index, test_index in kf.split(df2):\n",
    "    print(\"TRAIN:\", train_index[:5], \"TEST:\", test_index[:5])\n",
    "    X_train, X_test = X.iloc[train_index], X.iloc[test_index]\n",
    "    y_train, y_test = y.iloc[train_index], y.iloc[test_index]\n",
    "    tree_two_gini.fit(X_train, y_train)\n",
    "    y_pred = tree_two_gini.predict(X_test)\n",
    "    print(\"precision={}\".format(metrics.precision_score(y_test, y_pred, average=\"weighted\")))\n",
    "    print(\"recall=   {}\".format(metrics.recall_score(y_test, y_pred, average=\"weighted\")))\n",
    "    print(\"f1=       {}\".format(metrics.f1_score(y_test, y_pred, average=\"weighted\")))\n",
    "    \n",
    "    print()"
   ]
  },
  {
   "cell_type": "code",
   "execution_count": 50,
   "id": "2f3c7e09",
   "metadata": {},
   "outputs": [
    {
     "data": {
      "text/plain": [
       "{'fit_time': array([0.00235987, 0.00154018, 0.00138378, 0.00156021, 0.00119305]),\n",
       " 'score_time': array([0.00300717, 0.00206494, 0.00212526, 0.0023191 , 0.00190592]),\n",
       " 'test_precision_weighted': array([0.95402299, 0.93614578, 0.96559464, 0.89615987, 0.91366263]),\n",
       " 'test_recall_weighted': array([0.95402299, 0.93103448, 0.96551724, 0.89655172, 0.90804598]),\n",
       " 'test_f1_weighted': array([0.95402299, 0.93159793, 0.96542104, 0.8962305 , 0.90890489])}"
      ]
     },
     "execution_count": 50,
     "metadata": {},
     "output_type": "execute_result"
    }
   ],
   "source": [
    "tree_two_gini_scores = model_selection.cross_validate(tree_two_gini, X, y, cv=5, \n",
    "                                        scoring=[\"precision_weighted\", \"recall_weighted\", \"f1_weighted\"])\n",
    "tree_two_gini_scores"
   ]
  },
  {
   "cell_type": "code",
   "execution_count": 51,
   "id": "a989fbc3",
   "metadata": {},
   "outputs": [
    {
     "name": "stdout",
     "output_type": "stream",
     "text": [
      "{'fit_time': 'mean= 0.002, std = 0.0004'}\n",
      "{'score_time': 'mean= 0.002, std = 0.0004'}\n",
      "{'test_precision_weighted': 'mean= 0.933, std = 0.0255'}\n",
      "{'test_recall_weighted': 'mean= 0.931, std = 0.0262'}\n",
      "{'test_f1_weighted': 'mean= 0.931, std = 0.0261'}\n"
     ]
    }
   ],
   "source": [
    "for i in tree_two_gini_scores:\n",
    "    tree_two_gini_scores_ms = {\n",
    "        i : (f'mean= {np.mean(tree_two_gini_scores[i]).round(3)}, std = {np.std(tree_two_gini_scores[i]).round(4)}')\n",
    "    }\n",
    "    print(tree_two_gini_scores_ms)"
   ]
  },
  {
   "cell_type": "markdown",
   "id": "007b3c7f",
   "metadata": {},
   "source": [
    "This time it is noticed that the accuracy scores are slightly higher with entropy as our criterion on this model"
   ]
  },
  {
   "cell_type": "markdown",
   "id": "508fc9fd",
   "metadata": {},
   "source": [
    "## Naïve Bayes Classifier\n",
    "\n",
    "### ii"
   ]
  },
  {
   "cell_type": "code",
   "execution_count": 52,
   "id": "fba2fa52",
   "metadata": {
    "scrolled": true
   },
   "outputs": [],
   "source": [
    "bayes_two_gaussian = naive_bayes.GaussianNB()"
   ]
  },
  {
   "cell_type": "code",
   "execution_count": 53,
   "id": "7b8cc4c6",
   "metadata": {},
   "outputs": [
    {
     "data": {
      "text/plain": [
       "GaussianNB()"
      ]
     },
     "execution_count": 53,
     "metadata": {},
     "output_type": "execute_result"
    }
   ],
   "source": [
    "bayes_two_gaussian.fit(X, y)"
   ]
  },
  {
   "cell_type": "code",
   "execution_count": 54,
   "id": "dc0c3546",
   "metadata": {},
   "outputs": [
    {
     "data": {
      "text/plain": [
       "array([0, 0, 0, 1, 1, 1, 0, 0, 0, 1, 0, 0, 1, 1, 0, 0, 1, 1, 0, 1, 1, 1,\n",
       "       1, 1, 1, 1, 1, 1, 0, 1, 0, 1, 1, 0, 1, 0, 0, 0, 0, 1, 1, 1, 1, 1,\n",
       "       1, 1, 1, 1, 1, 0, 1, 0, 1, 0, 1, 0, 0, 0, 0, 0, 1, 0, 1, 1, 1, 0,\n",
       "       0, 0, 1, 1, 1, 1, 1, 0, 1, 0, 1, 0, 1, 0, 1, 1, 0, 0, 0, 1, 0, 0,\n",
       "       1, 0, 1, 1, 1, 1, 1, 1, 1, 1, 1, 0, 1, 1, 1, 1, 1, 1, 0, 1, 1, 1,\n",
       "       1, 0, 1, 0, 1, 1, 1, 0, 1, 0, 0, 0, 0, 0, 1, 0, 0, 1, 1, 1, 1, 1,\n",
       "       0, 0, 0, 0, 0, 1, 1, 1, 1, 0, 0, 1, 1, 1, 0, 1, 0, 1, 0, 0, 1, 1,\n",
       "       0, 0, 0, 1, 0, 1, 1, 1, 1, 0, 1, 1, 0, 0, 0, 1, 1, 0, 1, 1, 1, 1,\n",
       "       1, 1, 1, 1, 1, 1, 1, 1, 1, 1, 1, 1, 0, 1, 0, 0, 1, 1, 1, 0, 1, 0,\n",
       "       1, 1, 1, 1, 1, 1, 0, 1, 0, 0, 1, 1, 1, 0, 1, 1, 0, 0, 1, 0, 1, 1,\n",
       "       1, 1, 1, 0, 0, 0, 1, 1, 0, 0, 0, 0, 1, 0, 1, 0, 1, 1, 1, 0, 0, 1,\n",
       "       1, 1, 1, 1, 1, 0, 1, 1, 0, 0, 1, 0, 1, 1, 0, 0, 1, 1, 1, 1, 1, 1,\n",
       "       1, 1, 0, 1, 1, 1, 1, 1, 1, 0, 0, 1, 0, 0, 0, 0, 1, 0, 0, 0, 1, 1,\n",
       "       1, 1, 1, 1, 1, 1, 1, 1, 1, 0, 0, 1, 1, 1, 0, 1, 0, 0, 0, 0, 0, 1,\n",
       "       0, 1, 0, 1, 1, 0, 0, 0, 1, 1, 1, 1, 1, 1, 1, 1, 0, 1, 1, 0, 1, 1,\n",
       "       0, 1, 1, 1, 1, 0, 1, 1, 1, 0, 0, 1, 1, 0, 1, 0, 0, 0, 1, 0, 1, 0,\n",
       "       1, 0, 1, 1, 0, 0, 1, 0, 1, 1, 1, 0, 0, 1, 1, 1, 1, 0, 1, 1, 0, 1,\n",
       "       0, 0, 1, 0, 0, 0, 1, 1, 0, 1, 0, 1, 1, 1, 0, 1, 1, 1, 0, 1, 1, 1,\n",
       "       1, 1, 1, 0, 0, 0, 1, 0, 0, 0, 1, 0, 1, 0, 0, 1, 0, 0, 1, 1, 0, 1,\n",
       "       1, 1, 0, 1, 1, 1, 1, 1, 1, 0, 1, 1, 0, 1, 0, 0, 0])"
      ]
     },
     "execution_count": 54,
     "metadata": {},
     "output_type": "execute_result"
    }
   ],
   "source": [
    "bayes_two_gaussian.predict(X)"
   ]
  },
  {
   "cell_type": "code",
   "execution_count": 55,
   "id": "6d5f3094",
   "metadata": {},
   "outputs": [
    {
     "name": "stdout",
     "output_type": "stream",
     "text": [
      "TRAIN: [87 88 89 90 91] TEST: [0 1 2 3 4]\n",
      "precision=0.9454547699297504\n",
      "recall=   0.9425287356321839\n",
      "f1=       0.9428561183940785\n",
      "\n",
      "TRAIN: [0 1 2 3 4] TEST: [87 88 89 90 91]\n",
      "precision=0.9540229885057471\n",
      "recall=   0.9540229885057471\n",
      "f1=       0.9540229885057471\n",
      "\n",
      "TRAIN: [0 1 2 3 4] TEST: [174 175 176 177 178]\n",
      "precision=0.9544193420531115\n",
      "recall=   0.9540229885057471\n",
      "f1=       0.9536600120992136\n",
      "\n",
      "TRAIN: [0 1 2 3 4] TEST: [261 262 263 264 265]\n",
      "precision=0.9673645320197043\n",
      "recall=   0.9655172413793104\n",
      "f1=       0.9651960187866546\n",
      "\n",
      "TRAIN: [0 1 2 3 4] TEST: [348 349 350 351 352]\n",
      "precision=0.9000745573159367\n",
      "recall=   0.896551724137931\n",
      "f1=       0.89723072280351\n",
      "\n"
     ]
    }
   ],
   "source": [
    "kf = model_selection.KFold(n_splits=5, shuffle=False)\n",
    "for train_index, test_index in kf.split(df2):\n",
    "    print(\"TRAIN:\", train_index[:5], \"TEST:\", test_index[:5])\n",
    "    X_train, X_test = X.iloc[train_index], X.iloc[test_index]\n",
    "    y_train, y_test = y.iloc[train_index], y.iloc[test_index]\n",
    "    bayes_two_gaussian.fit(X_train, y_train)\n",
    "    y_pred = bayes_two_gaussian.predict(X_test)\n",
    "    print(\"precision={}\".format(metrics.precision_score(y_test, y_pred, average=\"weighted\")))\n",
    "    print(\"recall=   {}\".format(metrics.recall_score(y_test, y_pred, average=\"weighted\")))\n",
    "    print(\"f1=       {}\".format(metrics.f1_score(y_test, y_pred, average=\"weighted\")))\n",
    "    \n",
    "    print()"
   ]
  },
  {
   "cell_type": "code",
   "execution_count": 56,
   "id": "ca877e94",
   "metadata": {},
   "outputs": [
    {
     "data": {
      "text/plain": [
       "{'fit_time': array([0.00231099, 0.00136614, 0.001122  , 0.00159001, 0.00104499]),\n",
       " 'score_time': array([0.00238585, 0.00208783, 0.00200105, 0.00197601, 0.00190902]),\n",
       " 'test_precision_weighted': array([0.94556695, 0.95402299, 0.94387944, 0.98871473, 0.90027045]),\n",
       " 'test_recall_weighted': array([0.94252874, 0.95402299, 0.94252874, 0.98850575, 0.89655172]),\n",
       " 'test_f1_weighted': array([0.94290596, 0.95402299, 0.94199336, 0.98847006, 0.89732277])}"
      ]
     },
     "execution_count": 56,
     "metadata": {},
     "output_type": "execute_result"
    }
   ],
   "source": [
    "bayes_two_gaussian_scores = model_selection.cross_validate(bayes_two_gaussian, X, y, cv=5, \n",
    "                                        scoring=[\"precision_weighted\", \"recall_weighted\", \"f1_weighted\"])\n",
    "bayes_two_gaussian_scores"
   ]
  },
  {
   "cell_type": "code",
   "execution_count": 57,
   "id": "9754dfc7",
   "metadata": {
    "scrolled": true
   },
   "outputs": [
    {
     "name": "stdout",
     "output_type": "stream",
     "text": [
      "{'fit_time': 'mean= 0.001, std = 0.0005'}\n",
      "{'score_time': 'mean= 0.002, std = 0.0002'}\n",
      "{'test_precision_weighted': 'mean= 0.946, std = 0.0282'}\n",
      "{'test_recall_weighted': 'mean= 0.945, std = 0.0294'}\n",
      "{'test_f1_weighted': 'mean= 0.945, std = 0.0292'}\n"
     ]
    }
   ],
   "source": [
    "for i in bayes_two_gaussian_scores:\n",
    "    bayes_two_gaussian_scores_ms = {\n",
    "        i : (f'mean= {np.mean(bayes_two_gaussian_scores[i]).round(3)}, std = {np.std(bayes_two_gaussian_scores[i]).round(4)}')\n",
    "    }\n",
    "    print(bayes_two_gaussian_scores_ms)"
   ]
  },
  {
   "cell_type": "code",
   "execution_count": 58,
   "id": "db6013f8",
   "metadata": {},
   "outputs": [],
   "source": [
    "bayes_two_bernoulli = naive_bayes.BernoulliNB()"
   ]
  },
  {
   "cell_type": "code",
   "execution_count": 59,
   "id": "fe0f1796",
   "metadata": {},
   "outputs": [
    {
     "data": {
      "text/plain": [
       "BernoulliNB()"
      ]
     },
     "execution_count": 59,
     "metadata": {},
     "output_type": "execute_result"
    }
   ],
   "source": [
    "bayes_two_bernoulli.fit(X, y)"
   ]
  },
  {
   "cell_type": "code",
   "execution_count": 60,
   "id": "675fd628",
   "metadata": {},
   "outputs": [
    {
     "name": "stdout",
     "output_type": "stream",
     "text": [
      "TRAIN: [87 88 89 90 91] TEST: [0 1 2 3 4]\n",
      "precision=0.9183213271413074\n",
      "recall=   0.9080459770114943\n",
      "f1=       0.9088608220057534\n",
      "\n",
      "TRAIN: [0 1 2 3 4] TEST: [87 88 89 90 91]\n",
      "precision=0.8649516705062104\n",
      "recall=   0.8505747126436781\n",
      "f1=       0.8522651805410425\n",
      "\n",
      "TRAIN: [0 1 2 3 4] TEST: [174 175 176 177 178]\n",
      "precision=0.9544193420531115\n",
      "recall=   0.9540229885057471\n",
      "f1=       0.9536600120992136\n",
      "\n",
      "TRAIN: [0 1 2 3 4] TEST: [261 262 263 264 265]\n",
      "precision=0.9424706838499942\n",
      "recall=   0.9425287356321839\n",
      "f1=       0.9423684029097185\n",
      "\n",
      "TRAIN: [0 1 2 3 4] TEST: [348 349 350 351 352]\n",
      "precision=0.8421764727392401\n",
      "recall=   0.8275862068965517\n",
      "f1=       0.8295367467781262\n",
      "\n"
     ]
    }
   ],
   "source": [
    "kf = model_selection.KFold(n_splits=5, shuffle=False)\n",
    "for train_index, test_index in kf.split(df2):\n",
    "    print(\"TRAIN:\", train_index[:5], \"TEST:\", test_index[:5])\n",
    "    X_train, X_test = X.iloc[train_index], X.iloc[test_index]\n",
    "    y_train, y_test = y.iloc[train_index], y.iloc[test_index]\n",
    "    bayes_two_bernoulli.fit(X_train, y_train)\n",
    "    y_pred = bayes_two_bernoulli.predict(X_test)\n",
    "    print(\"precision={}\".format(metrics.precision_score(y_test, y_pred, average=\"weighted\")))\n",
    "    print(\"recall=   {}\".format(metrics.recall_score(y_test, y_pred, average=\"weighted\")))\n",
    "    print(\"f1=       {}\".format(metrics.f1_score(y_test, y_pred, average=\"weighted\")))\n",
    "    \n",
    "    print()"
   ]
  },
  {
   "cell_type": "code",
   "execution_count": 61,
   "id": "94cd8772",
   "metadata": {},
   "outputs": [
    {
     "data": {
      "text/plain": [
       "{'fit_time': array([0.002496  , 0.00200176, 0.00123692, 0.00166726, 0.00119615]),\n",
       " 'score_time': array([0.00301003, 0.00211406, 0.00185204, 0.00194716, 0.00199986]),\n",
       " 'test_precision_weighted': array([0.91864759, 0.86495167, 0.94387944, 0.95402299, 0.842865  ]),\n",
       " 'test_recall_weighted': array([0.90804598, 0.85057471, 0.94252874, 0.95402299, 0.82758621]),\n",
       " 'test_f1_weighted': array([0.90901522, 0.85226518, 0.94199336, 0.95402299, 0.82987789])}"
      ]
     },
     "execution_count": 61,
     "metadata": {},
     "output_type": "execute_result"
    }
   ],
   "source": [
    "bayes_two_bernoulli_scores = model_selection.cross_validate(bayes_two_bernoulli, X, y, cv=5, \n",
    "                                        scoring=[\"precision_weighted\", \"recall_weighted\", \"f1_weighted\"])\n",
    "bayes_two_bernoulli_scores"
   ]
  },
  {
   "cell_type": "code",
   "execution_count": 62,
   "id": "18996595",
   "metadata": {},
   "outputs": [
    {
     "name": "stdout",
     "output_type": "stream",
     "text": [
      "{'fit_time': 'mean= 0.002, std = 0.0005'}\n",
      "{'score_time': 'mean= 0.002, std = 0.0004'}\n",
      "{'test_precision_weighted': 'mean= 0.905, std = 0.0437'}\n",
      "{'test_recall_weighted': 'mean= 0.897, std = 0.0498'}\n",
      "{'test_f1_weighted': 'mean= 0.897, std = 0.0488'}\n"
     ]
    }
   ],
   "source": [
    "for i in bayes_two_bernoulli_scores:\n",
    "    bayes_two_bernoulli_scores_ms = {\n",
    "        i : (f'mean= {np.mean(bayes_two_bernoulli_scores[i]).round(3)}, std = {np.std(bayes_two_bernoulli_scores[i]).round(4)}')\n",
    "    }\n",
    "    print(bayes_two_bernoulli_scores_ms)"
   ]
  },
  {
   "cell_type": "markdown",
   "id": "227f51f1",
   "metadata": {},
   "source": [
    "## DecisionTree Classifier\n",
    "\n",
    "### iii"
   ]
  },
  {
   "cell_type": "code",
   "execution_count": 63,
   "id": "8644278d",
   "metadata": {},
   "outputs": [
    {
     "name": "stdout",
     "output_type": "stream",
     "text": [
      "DecisionTreeClassifier(criterion='entropy')\n",
      "DecisionTreeClassifier()\n"
     ]
    }
   ],
   "source": [
    "X = df3.drop(['Class Name'], axis=1)\n",
    "y = df3['Class Name']\n",
    "tree_three_enp = tree.DecisionTreeClassifier(criterion='entropy')\n",
    "tree_three_gini = tree.DecisionTreeClassifier(criterion='gini')\n",
    "\n",
    "print(tree_three_enp)\n",
    "print(tree_three_gini)"
   ]
  },
  {
   "cell_type": "code",
   "execution_count": 64,
   "id": "04cb799f",
   "metadata": {},
   "outputs": [
    {
     "data": {
      "text/plain": [
       "DecisionTreeClassifier()"
      ]
     },
     "execution_count": 64,
     "metadata": {},
     "output_type": "execute_result"
    }
   ],
   "source": [
    "tree_three_enp.fit(X, y)\n",
    "tree_three_gini.fit(X, y)"
   ]
  },
  {
   "cell_type": "code",
   "execution_count": 65,
   "id": "11e2fb4a",
   "metadata": {},
   "outputs": [],
   "source": [
    "# predict\n",
    "y_pred_enp = tree_three_enp.predict(X)\n",
    "y_pred_gini = tree_three_gini.predict(X)"
   ]
  },
  {
   "cell_type": "code",
   "execution_count": 66,
   "id": "ab5f30a7",
   "metadata": {},
   "outputs": [
    {
     "name": "stdout",
     "output_type": "stream",
     "text": [
      "[0 0]\n",
      "[0 0]\n",
      "0    0\n",
      "1    0\n",
      "Name: Class Name, dtype: int64\n"
     ]
    }
   ],
   "source": [
    "print(tree_three_enp.predict(X[:2]))\n",
    "print(tree_three_gini.predict(X[:2]))\n",
    "print(y[:2])"
   ]
  },
  {
   "cell_type": "markdown",
   "id": "76cb3631",
   "metadata": {},
   "source": [
    "#### performing 5-fold cross validation and report precision, recall, and F1-scores for the third scenario"
   ]
  },
  {
   "cell_type": "code",
   "execution_count": 67,
   "id": "2978e440",
   "metadata": {},
   "outputs": [
    {
     "name": "stdout",
     "output_type": "stream",
     "text": [
      "TRAIN: [87 88 89 90 91] TEST: [0 1 2 3 4]\n",
      "precision=0.9770114942528736\n",
      "recall=   0.9770114942528736\n",
      "f1=       0.9770114942528736\n",
      "\n",
      "TRAIN: [0 1 2 3 4] TEST: [87 88 89 90 91]\n",
      "precision=0.9588626739261947\n",
      "recall=   0.9540229885057471\n",
      "f1=       0.9543986176846216\n",
      "\n",
      "TRAIN: [0 1 2 3 4] TEST: [174 175 176 177 178]\n",
      "precision=0.9556871395951856\n",
      "recall=   0.9540229885057471\n",
      "f1=       0.9543234064785788\n",
      "\n",
      "TRAIN: [0 1 2 3 4] TEST: [261 262 263 264 265]\n",
      "precision=0.931269592476489\n",
      "recall=   0.9310344827586207\n",
      "f1=       0.9306281202832927\n",
      "\n",
      "TRAIN: [0 1 2 3 4] TEST: [348 349 350 351 352]\n",
      "precision=0.9455669462566014\n",
      "recall=   0.9425287356321839\n",
      "f1=       0.942905957113061\n",
      "\n"
     ]
    }
   ],
   "source": [
    "# on entropy criterion\n",
    "kf = model_selection.KFold(n_splits=5, shuffle=False)\n",
    "for train_index, test_index in kf.split(df3):\n",
    "    print(\"TRAIN:\", train_index[:5], \"TEST:\", test_index[:5])\n",
    "    X_train, X_test = X.iloc[train_index], X.iloc[test_index]\n",
    "    y_train, y_test = y.iloc[train_index], y.iloc[test_index]\n",
    "    tree_three_enp.fit(X_train, y_train)\n",
    "    y_pred = tree_three_enp.predict(X_test)\n",
    "    print(\"precision={}\".format(metrics.precision_score(y_test, y_pred, average=\"weighted\")))\n",
    "    print(\"recall=   {}\".format(metrics.recall_score(y_test, y_pred, average=\"weighted\")))\n",
    "    print(\"f1=       {}\".format(metrics.f1_score(y_test, y_pred, average=\"weighted\")))\n",
    "    \n",
    "    print()"
   ]
  },
  {
   "cell_type": "code",
   "execution_count": 68,
   "id": "5f9ecba4",
   "metadata": {},
   "outputs": [
    {
     "data": {
      "text/plain": [
       "{'fit_time': array([0.00211692, 0.00149298, 0.00119877, 0.00112677, 0.00137496]),\n",
       " 'score_time': array([0.00278306, 0.00222778, 0.00179601, 0.00180006, 0.00198627]),\n",
       " 'test_precision_weighted': array([0.97701149, 0.95886267, 0.96559464, 0.96733212, 0.93632805]),\n",
       " 'test_recall_weighted': array([0.97701149, 0.95402299, 0.96551724, 0.96551724, 0.93103448]),\n",
       " 'test_f1_weighted': array([0.97701149, 0.95439862, 0.96542104, 0.96516221, 0.93167867])}"
      ]
     },
     "execution_count": 68,
     "metadata": {},
     "output_type": "execute_result"
    }
   ],
   "source": [
    "tree_three_enp_scores = model_selection.cross_validate(tree_three_enp, X, y, cv=5, \n",
    "                                        scoring=[\"precision_weighted\", \"recall_weighted\", \"f1_weighted\"])\n",
    "tree_three_enp_scores"
   ]
  },
  {
   "cell_type": "code",
   "execution_count": 69,
   "id": "02acec01",
   "metadata": {
    "scrolled": true
   },
   "outputs": [
    {
     "name": "stdout",
     "output_type": "stream",
     "text": [
      "{'fit_time': 'mean = 0.001, std= 0.0'}\n",
      "{'score_time': 'mean = 0.002, std= 0.0'}\n",
      "{'test_precision_weighted': 'mean = 0.961, std= 0.014'}\n",
      "{'test_recall_weighted': 'mean = 0.959, std= 0.016'}\n",
      "{'test_f1_weighted': 'mean = 0.959, std= 0.015'}\n"
     ]
    }
   ],
   "source": [
    "for i in tree_three_enp_scores:\n",
    "    tree_three_enp_scores_ms = {\n",
    "        i : (f'mean = {np.mean(tree_three_enp_scores[i]).round(3)}, std= {np.std(tree_three_enp_scores[i]).round(3)}')\n",
    "    }\n",
    "    print(tree_three_enp_scores_ms)"
   ]
  },
  {
   "cell_type": "code",
   "execution_count": 70,
   "id": "4e0a59b5",
   "metadata": {},
   "outputs": [
    {
     "name": "stdout",
     "output_type": "stream",
     "text": [
      "TRAIN: [87 88 89 90 91] TEST: [0 1 2 3 4]\n",
      "precision=0.9770114942528736\n",
      "recall=   0.9770114942528736\n",
      "f1=       0.9770114942528736\n",
      "\n",
      "TRAIN: [0 1 2 3 4] TEST: [87 88 89 90 91]\n",
      "precision=0.9498968464485705\n",
      "recall=   0.9425287356321839\n",
      "f1=       0.9430743735686747\n",
      "\n",
      "TRAIN: [0 1 2 3 4] TEST: [174 175 176 177 178]\n",
      "precision=0.9556871395951856\n",
      "recall=   0.9540229885057471\n",
      "f1=       0.9543234064785788\n",
      "\n",
      "TRAIN: [0 1 2 3 4] TEST: [261 262 263 264 265]\n",
      "precision=0.9380479251899474\n",
      "recall=   0.9310344827586207\n",
      "f1=       0.9295447322421738\n",
      "\n",
      "TRAIN: [0 1 2 3 4] TEST: [348 349 350 351 352]\n",
      "precision=0.9326872511456689\n",
      "recall=   0.9310344827586207\n",
      "f1=       0.9313565744600227\n",
      "\n"
     ]
    }
   ],
   "source": [
    "# on gini criterion\n",
    "kf = model_selection.KFold(n_splits=5, shuffle=False)\n",
    "for train_index, test_index in kf.split(df3):\n",
    "    print(\"TRAIN:\", train_index[:5], \"TEST:\", test_index[:5])\n",
    "    X_train, X_test = X.iloc[train_index], X.iloc[test_index]\n",
    "    y_train, y_test = y.iloc[train_index], y.iloc[test_index]\n",
    "    tree_three_gini.fit(X_train, y_train)\n",
    "    y_pred = tree_three_gini.predict(X_test)\n",
    "    print(\"precision={}\".format(metrics.precision_score(y_test, y_pred, average=\"weighted\")))\n",
    "    print(\"recall=   {}\".format(metrics.recall_score(y_test, y_pred, average=\"weighted\")))\n",
    "    print(\"f1=       {}\".format(metrics.f1_score(y_test, y_pred, average=\"weighted\")))\n",
    "    \n",
    "    print()"
   ]
  },
  {
   "cell_type": "code",
   "execution_count": 71,
   "id": "d41bf2ed",
   "metadata": {},
   "outputs": [
    {
     "data": {
      "text/plain": [
       "{'fit_time': array([0.00174785, 0.00130701, 0.0013628 , 0.00117612, 0.00107789]),\n",
       " 'score_time': array([0.00264978, 0.00186014, 0.00205588, 0.00179291, 0.00183082]),\n",
       " 'test_precision_weighted': array([0.97701149, 0.95886267, 0.95402299, 0.93119339, 0.93277757]),\n",
       " 'test_recall_weighted': array([0.97701149, 0.95402299, 0.95402299, 0.93103448, 0.93103448]),\n",
       " 'test_f1_weighted': array([0.97701149, 0.95439862, 0.95402299, 0.93058386, 0.93139806])}"
      ]
     },
     "execution_count": 71,
     "metadata": {},
     "output_type": "execute_result"
    }
   ],
   "source": [
    "tree_three_gini_scores = model_selection.cross_validate(tree_three_gini, X, y, cv=5, \n",
    "                                        scoring=[\"precision_weighted\", \"recall_weighted\", \"f1_weighted\"])\n",
    "tree_three_gini_scores"
   ]
  },
  {
   "cell_type": "code",
   "execution_count": 72,
   "id": "09c33159",
   "metadata": {},
   "outputs": [
    {
     "name": "stdout",
     "output_type": "stream",
     "text": [
      "{'fit_time': 'mean = 0.001, std= 0.0'}\n",
      "{'score_time': 'mean = 0.002, std= 0.0'}\n",
      "{'test_precision_weighted': 'mean = 0.951, std= 0.017'}\n",
      "{'test_recall_weighted': 'mean = 0.949, std= 0.017'}\n",
      "{'test_f1_weighted': 'mean = 0.949, std= 0.017'}\n"
     ]
    }
   ],
   "source": [
    "for i in tree_three_gini_scores:\n",
    "    tree_three_gini_scores_ms = {\n",
    "        i : (f'mean = {np.mean(tree_three_gini_scores[i]).round(3)}, std= {np.std(tree_three_gini_scores[i]).round(3)}')\n",
    "    }\n",
    "    print(tree_three_gini_scores_ms)"
   ]
  },
  {
   "cell_type": "markdown",
   "id": "e29e4066",
   "metadata": {},
   "source": [
    "## Naïve Bayes Classifier\n",
    "\n",
    "### iii"
   ]
  },
  {
   "cell_type": "code",
   "execution_count": 73,
   "id": "04528d0e",
   "metadata": {},
   "outputs": [],
   "source": [
    "bayes_three_bernoulli = naive_bayes.BernoulliNB()"
   ]
  },
  {
   "cell_type": "code",
   "execution_count": 74,
   "id": "de49aa67",
   "metadata": {},
   "outputs": [
    {
     "data": {
      "text/plain": [
       "BernoulliNB()"
      ]
     },
     "execution_count": 74,
     "metadata": {},
     "output_type": "execute_result"
    }
   ],
   "source": [
    "bayes_three_bernoulli.fit(X, y)"
   ]
  },
  {
   "cell_type": "code",
   "execution_count": 75,
   "id": "b0c608fc",
   "metadata": {},
   "outputs": [
    {
     "name": "stdout",
     "output_type": "stream",
     "text": [
      "[0 0]\n",
      "433    0\n",
      "434    0\n",
      "Name: Class Name, dtype: int64\n"
     ]
    }
   ],
   "source": [
    "print(bayes_three_bernoulli.predict(X[-2:]))\n",
    "print(y[-2:])"
   ]
  },
  {
   "cell_type": "code",
   "execution_count": 76,
   "id": "27f0bb1c",
   "metadata": {},
   "outputs": [
    {
     "name": "stdout",
     "output_type": "stream",
     "text": [
      "TRAIN: [87 88 89 90 91] TEST: [0 1 2 3 4]\n",
      "precision=0.913203654582965\n",
      "recall=   0.9080459770114943\n",
      "f1=       0.9086921404162783\n",
      "\n",
      "TRAIN: [0 1 2 3 4] TEST: [87 88 89 90 91]\n",
      "precision=0.8731841526045487\n",
      "recall=   0.8620689655172413\n",
      "f1=       0.8635228331780057\n",
      "\n",
      "TRAIN: [0 1 2 3 4] TEST: [174 175 176 177 178]\n",
      "precision=0.9544193420531115\n",
      "recall=   0.9540229885057471\n",
      "f1=       0.9536600120992136\n",
      "\n",
      "TRAIN: [0 1 2 3 4] TEST: [261 262 263 264 265]\n",
      "precision=0.9424706838499942\n",
      "recall=   0.9425287356321839\n",
      "f1=       0.9423684029097185\n",
      "\n",
      "TRAIN: [0 1 2 3 4] TEST: [348 349 350 351 352]\n",
      "precision=0.8570333880678709\n",
      "recall=   0.8390804597701149\n",
      "f1=       0.8409817647567195\n",
      "\n"
     ]
    }
   ],
   "source": [
    "kf = model_selection.KFold(n_splits=5, shuffle=False)\n",
    "for train_index, test_index in kf.split(df3):\n",
    "    print(\"TRAIN:\", train_index[:5], \"TEST:\", test_index[:5])\n",
    "    X_train, X_test = X.iloc[train_index], X.iloc[test_index]\n",
    "    y_train, y_test = y.iloc[train_index], y.iloc[test_index]\n",
    "    bayes_three_bernoulli.fit(X_train, y_train)\n",
    "    y_pred = bayes_three_bernoulli.predict(X_test)\n",
    "    print(\"precision={}\".format(metrics.precision_score(y_test, y_pred, average=\"weighted\")))\n",
    "    print(\"recall=   {}\".format(metrics.recall_score(y_test, y_pred, average=\"weighted\")))\n",
    "    print(\"f1=       {}\".format(metrics.f1_score(y_test, y_pred, average=\"weighted\")))\n",
    "    \n",
    "    print()"
   ]
  },
  {
   "cell_type": "code",
   "execution_count": 77,
   "id": "4c693eeb",
   "metadata": {},
   "outputs": [
    {
     "data": {
      "text/plain": [
       "{'fit_time': array([0.00176215, 0.00153399, 0.00170994, 0.00131011, 0.00143909]),\n",
       " 'score_time': array([0.0024929 , 0.00252199, 0.00224519, 0.00192499, 0.001755  ]),\n",
       " 'test_precision_weighted': array([0.91342889, 0.87318415, 0.94387944, 0.9659765 , 0.85775405]),\n",
       " 'test_recall_weighted': array([0.90804598, 0.86206897, 0.94252874, 0.96551724, 0.83908046]),\n",
       " 'test_f1_weighted': array([0.90879724, 0.86352283, 0.94199336, 0.96561344, 0.84134203])}"
      ]
     },
     "execution_count": 77,
     "metadata": {},
     "output_type": "execute_result"
    }
   ],
   "source": [
    "bayes_three_bernoulli_scores = model_selection.cross_validate(bayes_three_bernoulli, X, y, cv=5, \n",
    "                                        scoring=[\"precision_weighted\", \"recall_weighted\", \"f1_weighted\"])\n",
    "bayes_three_bernoulli_scores"
   ]
  },
  {
   "cell_type": "code",
   "execution_count": 78,
   "id": "12ff5c98",
   "metadata": {},
   "outputs": [
    {
     "name": "stdout",
     "output_type": "stream",
     "text": [
      "{'fit_time': 'mean= 0.002, std = 0.0002'}\n",
      "{'score_time': 'mean= 0.002, std = 0.0003'}\n",
      "{'test_precision_weighted': 'mean= 0.911, std = 0.0409'}\n",
      "{'test_recall_weighted': 'mean= 0.903, std = 0.0474'}\n",
      "{'test_f1_weighted': 'mean= 0.904, std = 0.0465'}\n"
     ]
    }
   ],
   "source": [
    "for i in bayes_three_bernoulli_scores:\n",
    "    bayes_three_bernoulli_scores_ms = {\n",
    "        i : (f'mean= {np.mean(bayes_three_bernoulli_scores[i]).round(3)}, std = {np.std(bayes_three_bernoulli_scores[i]).round(4)}')\n",
    "    }\n",
    "    print(bayes_three_bernoulli_scores_ms)"
   ]
  },
  {
   "cell_type": "code",
   "execution_count": 79,
   "id": "4b85d31c",
   "metadata": {},
   "outputs": [],
   "source": [
    "bayes_three_gaussian = naive_bayes.GaussianNB()"
   ]
  },
  {
   "cell_type": "code",
   "execution_count": 80,
   "id": "3f3d2a66",
   "metadata": {},
   "outputs": [
    {
     "data": {
      "text/plain": [
       "GaussianNB()"
      ]
     },
     "execution_count": 80,
     "metadata": {},
     "output_type": "execute_result"
    }
   ],
   "source": [
    "bayes_three_gaussian.fit(X, y)"
   ]
  },
  {
   "cell_type": "code",
   "execution_count": 81,
   "id": "2b9dd25f",
   "metadata": {},
   "outputs": [
    {
     "name": "stdout",
     "output_type": "stream",
     "text": [
      "[0 0]\n",
      "433    0\n",
      "434    0\n",
      "Name: Class Name, dtype: int64\n"
     ]
    }
   ],
   "source": [
    "print(bayes_three_gaussian.predict(X[-2:]))\n",
    "print(y[-2:])"
   ]
  },
  {
   "cell_type": "code",
   "execution_count": 82,
   "id": "3070673d",
   "metadata": {},
   "outputs": [
    {
     "name": "stdout",
     "output_type": "stream",
     "text": [
      "TRAIN: [87 88 89 90 91] TEST: [0 1 2 3 4]\n",
      "precision=0.9454547699297504\n",
      "recall=   0.9425287356321839\n",
      "f1=       0.9428561183940785\n",
      "\n",
      "TRAIN: [0 1 2 3 4] TEST: [87 88 89 90 91]\n",
      "precision=0.9000745573159367\n",
      "recall=   0.896551724137931\n",
      "f1=       0.89723072280351\n",
      "\n",
      "TRAIN: [0 1 2 3 4] TEST: [174 175 176 177 178]\n",
      "precision=0.9544193420531115\n",
      "recall=   0.9540229885057471\n",
      "f1=       0.9536600120992136\n",
      "\n",
      "TRAIN: [0 1 2 3 4] TEST: [261 262 263 264 265]\n",
      "precision=0.9655946437555633\n",
      "recall=   0.9655172413793104\n",
      "f1=       0.9654210417458309\n",
      "\n",
      "TRAIN: [0 1 2 3 4] TEST: [348 349 350 351 352]\n",
      "precision=0.8679951109300345\n",
      "recall=   0.8620689655172413\n",
      "f1=       0.8631958530538654\n",
      "\n"
     ]
    }
   ],
   "source": [
    "kf = model_selection.KFold(n_splits=5, shuffle=False)\n",
    "for train_index, test_index in kf.split(df3):\n",
    "    print(\"TRAIN:\", train_index[:5], \"TEST:\", test_index[:5])\n",
    "    X_train, X_test = X.iloc[train_index], X.iloc[test_index]\n",
    "    y_train, y_test = y.iloc[train_index], y.iloc[test_index]\n",
    "    bayes_three_gaussian.fit(X_train, y_train)\n",
    "    y_pred = bayes_three_gaussian.predict(X_test)\n",
    "    print(\"precision={}\".format(metrics.precision_score(y_test, y_pred, average=\"weighted\")))\n",
    "    print(\"recall=   {}\".format(metrics.recall_score(y_test, y_pred, average=\"weighted\")))\n",
    "    print(\"f1=       {}\".format(metrics.f1_score(y_test, y_pred, average=\"weighted\")))\n",
    "    \n",
    "    print()"
   ]
  },
  {
   "cell_type": "code",
   "execution_count": 83,
   "id": "dad5f7c4",
   "metadata": {},
   "outputs": [
    {
     "data": {
      "text/plain": [
       "{'fit_time': array([0.00163078, 0.00196505, 0.00112581, 0.00096488, 0.00112009]),\n",
       " 'score_time': array([0.00303912, 0.00257683, 0.00180721, 0.00180197, 0.0023067 ]),\n",
       " 'test_precision_weighted': array([0.94556695, 0.90007456, 0.94387944, 0.95402299, 0.86833178]),\n",
       " 'test_recall_weighted': array([0.94252874, 0.89655172, 0.94252874, 0.95402299, 0.86206897]),\n",
       " 'test_f1_weighted': array([0.94290596, 0.89723072, 0.94199336, 0.95402299, 0.86335733])}"
      ]
     },
     "execution_count": 83,
     "metadata": {},
     "output_type": "execute_result"
    }
   ],
   "source": [
    "bayes_three_gaussian_scores = model_selection.cross_validate(bayes_three_gaussian, X, y, cv=5, \n",
    "                                        scoring=[\"precision_weighted\", \"recall_weighted\", \"f1_weighted\"])\n",
    "bayes_three_gaussian_scores"
   ]
  },
  {
   "cell_type": "code",
   "execution_count": 84,
   "id": "a118a026",
   "metadata": {},
   "outputs": [
    {
     "name": "stdout",
     "output_type": "stream",
     "text": [
      "{'fit_time': 'mean= 0.001, std = 0.0004'}\n",
      "{'score_time': 'mean= 0.002, std = 0.0005'}\n",
      "{'test_precision_weighted': 'mean= 0.922, std = 0.0329'}\n",
      "{'test_recall_weighted': 'mean= 0.92, std = 0.0349'}\n",
      "{'test_f1_weighted': 'mean= 0.92, std = 0.0343'}\n"
     ]
    }
   ],
   "source": [
    "for i in bayes_three_gaussian_scores:\n",
    "    bayes_three_gaussian_scores_ms = {\n",
    "        i : (f'mean= {np.mean(bayes_three_gaussian_scores[i]).round(3)}, std = {np.std(bayes_three_gaussian_scores[i]).round(4)}')\n",
    "    }\n",
    "    print(bayes_three_gaussian_scores_ms)"
   ]
  },
  {
   "cell_type": "code",
   "execution_count": null,
   "id": "1ed88f0a",
   "metadata": {},
   "outputs": [],
   "source": []
  }
 ],
 "metadata": {
  "kernelspec": {
   "display_name": "ranaenv",
   "language": "python",
   "name": "ranaenv"
  },
  "language_info": {
   "codemirror_mode": {
    "name": "ipython",
    "version": 3
   },
   "file_extension": ".py",
   "mimetype": "text/x-python",
   "name": "python",
   "nbconvert_exporter": "python",
   "pygments_lexer": "ipython3",
   "version": "3.9.12"
  }
 },
 "nbformat": 4,
 "nbformat_minor": 5
}
